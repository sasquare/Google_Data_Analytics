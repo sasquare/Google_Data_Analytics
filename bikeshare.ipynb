{
  "nbformat": 4,
  "nbformat_minor": 0,
  "metadata": {
    "colab": {
      "provenance": [],
      "collapsed_sections": [],
      "mount_file_id": "1pHFdZ9Zo0BM0kLqJxTBhszipcEocWaIW",
      "authorship_tag": "ABX9TyPjkpK7ogiKc9djPfBnbz27",
      "include_colab_link": true
    },
    "kernelspec": {
      "name": "python3",
      "display_name": "Python 3"
    },
    "language_info": {
      "name": "python"
    }
  },
  "cells": [
    {
      "cell_type": "markdown",
      "metadata": {
        "id": "view-in-github",
        "colab_type": "text"
      },
      "source": [
        "<a href=\"https://colab.research.google.com/github/sasquare/Google_Data_Analytics/blob/main/bikeshare.ipynb\" target=\"_parent\"><img src=\"https://colab.research.google.com/assets/colab-badge.svg\" alt=\"Open In Colab\"/></a>"
      ]
    },
    {
      "cell_type": "code",
      "source": [
        "# import libraries\n",
        "# Pandas allows importing data from various file formats and also allow various data manipulation.\n",
        "# Numpy can be used for mathematical and statiscal operation\n",
        "# Matplotlib and Seaborn are both used to create visualization.\n",
        "# Datetime - These classes provide a number of functions to deal with dates, times and time intervals."
      ],
      "metadata": {
        "id": "IBrXpky5JCwr"
      },
      "execution_count": null,
      "outputs": []
    },
    {
      "cell_type": "code",
      "source": [
        "import pandas as pd\n",
        "import numpy as np\n",
        "import matplotlib.pyplot as plt\n",
        "import seaborn as sn\n",
        "from datetime import datetime\n",
        "from datetime import timedelta\n",
        "import time"
      ],
      "metadata": {
        "id": "n4KmBX9AJH5o"
      },
      "execution_count": null,
      "outputs": []
    },
    {
      "cell_type": "markdown",
      "source": [
        "the operation below merged our data into a single file"
      ],
      "metadata": {
        "id": "zBR8cYjsKhFf"
      }
    },
    {
      "cell_type": "code",
      "source": [
        "df = pd.concat(\n",
        "    map(pd.read_csv,['/content/drive/MyDrive/CLEAN DAT/df1.csv',\n",
        "                     '/content/drive/MyDrive/CLEAN DAT/df2.csv',\n",
        "                     '/content/drive/MyDrive/CLEAN DAT/df3.csv',\n",
        "                     '/content/drive/MyDrive/CLEAN DAT/df4.csv',\n",
        "                     '/content/drive/MyDrive/CLEAN DAT/df5.csv',\n",
        "                     '/content/drive/MyDrive/CLEAN DAT/df6.csv',\n",
        "                     '/content/drive/MyDrive/CLEAN DAT/df7.csv', \n",
        "                     '/content/drive/MyDrive/CLEAN DAT/df8.csv',\n",
        "                     '/content/drive/MyDrive/CLEAN DAT/df9.csv', \n",
        "                     '/content/drive/MyDrive/CLEAN DAT/df10.csv',\n",
        "                     '/content/drive/MyDrive/CLEAN DAT/df11.csv',\n",
        "                     '/content/drive/MyDrive/CLEAN DAT/df12.csv']), ignore_index= True\n",
        ")"
      ],
      "metadata": {
        "id": "rgkSTiP_w0Y5"
      },
      "execution_count": null,
      "outputs": []
    },
    {
      "cell_type": "code",
      "source": [
        "#overview of the first 10 row our data\n",
        "df.head(5)"
      ],
      "metadata": {
        "colab": {
          "base_uri": "https://localhost:8080/",
          "height": 206
        },
        "id": "RRPQ_7hx3KDI",
        "outputId": "d8a34fac-8a43-40ba-9110-cefbd277ced3"
      },
      "execution_count": null,
      "outputs": [
        {
          "output_type": "execute_result",
          "data": {
            "text/plain": [
              "            ride_id  rideable_type started_at started_time   ended_at  \\\n",
              "0  E19E6F1B8D4C42ED  electric_bike  1/23/2021   4:14:19 PM  1/23/2021   \n",
              "1  DC88F20C2C55F27F  electric_bike  1/27/2021   6:43:08 PM  1/27/2021   \n",
              "2  EC45C94683FE3F27  electric_bike  1/21/2021  10:35:54 PM  1/21/2021   \n",
              "3  4FA453A75AE377DB  electric_bike   1/7/2021   1:31:13 PM   1/7/2021   \n",
              "4  BE5E8EB4E7263A0B  electric_bike  1/23/2021   2:24:02 AM  1/23/2021   \n",
              "\n",
              "    ended_time          start_station_name end_station_name member_casual  \\\n",
              "0   4:24:44 PM  California Ave & Cortez St              NaN        member   \n",
              "1   6:47:12 PM  California Ave & Cortez St              NaN        member   \n",
              "2  10:37:14 PM  California Ave & Cortez St              NaN        member   \n",
              "3   1:42:55 PM  California Ave & Cortez St              NaN        member   \n",
              "4   2:24:45 AM  California Ave & Cortez St              NaN        casual   \n",
              "\n",
              "   ride_length  weekday month  \n",
              "0          625        7   Jan  \n",
              "1          244        4   Jan  \n",
              "2           80        5   Jan  \n",
              "3          702        5   Jan  \n",
              "4           43        7   Jan  "
            ],
            "text/html": [
              "\n",
              "  <div id=\"df-e79ba736-c10d-4fbf-a360-946416e028f2\">\n",
              "    <div class=\"colab-df-container\">\n",
              "      <div>\n",
              "<style scoped>\n",
              "    .dataframe tbody tr th:only-of-type {\n",
              "        vertical-align: middle;\n",
              "    }\n",
              "\n",
              "    .dataframe tbody tr th {\n",
              "        vertical-align: top;\n",
              "    }\n",
              "\n",
              "    .dataframe thead th {\n",
              "        text-align: right;\n",
              "    }\n",
              "</style>\n",
              "<table border=\"1\" class=\"dataframe\">\n",
              "  <thead>\n",
              "    <tr style=\"text-align: right;\">\n",
              "      <th></th>\n",
              "      <th>ride_id</th>\n",
              "      <th>rideable_type</th>\n",
              "      <th>started_at</th>\n",
              "      <th>started_time</th>\n",
              "      <th>ended_at</th>\n",
              "      <th>ended_time</th>\n",
              "      <th>start_station_name</th>\n",
              "      <th>end_station_name</th>\n",
              "      <th>member_casual</th>\n",
              "      <th>ride_length</th>\n",
              "      <th>weekday</th>\n",
              "      <th>month</th>\n",
              "    </tr>\n",
              "  </thead>\n",
              "  <tbody>\n",
              "    <tr>\n",
              "      <th>0</th>\n",
              "      <td>E19E6F1B8D4C42ED</td>\n",
              "      <td>electric_bike</td>\n",
              "      <td>1/23/2021</td>\n",
              "      <td>4:14:19 PM</td>\n",
              "      <td>1/23/2021</td>\n",
              "      <td>4:24:44 PM</td>\n",
              "      <td>California Ave &amp; Cortez St</td>\n",
              "      <td>NaN</td>\n",
              "      <td>member</td>\n",
              "      <td>625</td>\n",
              "      <td>7</td>\n",
              "      <td>Jan</td>\n",
              "    </tr>\n",
              "    <tr>\n",
              "      <th>1</th>\n",
              "      <td>DC88F20C2C55F27F</td>\n",
              "      <td>electric_bike</td>\n",
              "      <td>1/27/2021</td>\n",
              "      <td>6:43:08 PM</td>\n",
              "      <td>1/27/2021</td>\n",
              "      <td>6:47:12 PM</td>\n",
              "      <td>California Ave &amp; Cortez St</td>\n",
              "      <td>NaN</td>\n",
              "      <td>member</td>\n",
              "      <td>244</td>\n",
              "      <td>4</td>\n",
              "      <td>Jan</td>\n",
              "    </tr>\n",
              "    <tr>\n",
              "      <th>2</th>\n",
              "      <td>EC45C94683FE3F27</td>\n",
              "      <td>electric_bike</td>\n",
              "      <td>1/21/2021</td>\n",
              "      <td>10:35:54 PM</td>\n",
              "      <td>1/21/2021</td>\n",
              "      <td>10:37:14 PM</td>\n",
              "      <td>California Ave &amp; Cortez St</td>\n",
              "      <td>NaN</td>\n",
              "      <td>member</td>\n",
              "      <td>80</td>\n",
              "      <td>5</td>\n",
              "      <td>Jan</td>\n",
              "    </tr>\n",
              "    <tr>\n",
              "      <th>3</th>\n",
              "      <td>4FA453A75AE377DB</td>\n",
              "      <td>electric_bike</td>\n",
              "      <td>1/7/2021</td>\n",
              "      <td>1:31:13 PM</td>\n",
              "      <td>1/7/2021</td>\n",
              "      <td>1:42:55 PM</td>\n",
              "      <td>California Ave &amp; Cortez St</td>\n",
              "      <td>NaN</td>\n",
              "      <td>member</td>\n",
              "      <td>702</td>\n",
              "      <td>5</td>\n",
              "      <td>Jan</td>\n",
              "    </tr>\n",
              "    <tr>\n",
              "      <th>4</th>\n",
              "      <td>BE5E8EB4E7263A0B</td>\n",
              "      <td>electric_bike</td>\n",
              "      <td>1/23/2021</td>\n",
              "      <td>2:24:02 AM</td>\n",
              "      <td>1/23/2021</td>\n",
              "      <td>2:24:45 AM</td>\n",
              "      <td>California Ave &amp; Cortez St</td>\n",
              "      <td>NaN</td>\n",
              "      <td>casual</td>\n",
              "      <td>43</td>\n",
              "      <td>7</td>\n",
              "      <td>Jan</td>\n",
              "    </tr>\n",
              "  </tbody>\n",
              "</table>\n",
              "</div>\n",
              "      <button class=\"colab-df-convert\" onclick=\"convertToInteractive('df-e79ba736-c10d-4fbf-a360-946416e028f2')\"\n",
              "              title=\"Convert this dataframe to an interactive table.\"\n",
              "              style=\"display:none;\">\n",
              "        \n",
              "  <svg xmlns=\"http://www.w3.org/2000/svg\" height=\"24px\"viewBox=\"0 0 24 24\"\n",
              "       width=\"24px\">\n",
              "    <path d=\"M0 0h24v24H0V0z\" fill=\"none\"/>\n",
              "    <path d=\"M18.56 5.44l.94 2.06.94-2.06 2.06-.94-2.06-.94-.94-2.06-.94 2.06-2.06.94zm-11 1L8.5 8.5l.94-2.06 2.06-.94-2.06-.94L8.5 2.5l-.94 2.06-2.06.94zm10 10l.94 2.06.94-2.06 2.06-.94-2.06-.94-.94-2.06-.94 2.06-2.06.94z\"/><path d=\"M17.41 7.96l-1.37-1.37c-.4-.4-.92-.59-1.43-.59-.52 0-1.04.2-1.43.59L10.3 9.45l-7.72 7.72c-.78.78-.78 2.05 0 2.83L4 21.41c.39.39.9.59 1.41.59.51 0 1.02-.2 1.41-.59l7.78-7.78 2.81-2.81c.8-.78.8-2.07 0-2.86zM5.41 20L4 18.59l7.72-7.72 1.47 1.35L5.41 20z\"/>\n",
              "  </svg>\n",
              "      </button>\n",
              "      \n",
              "  <style>\n",
              "    .colab-df-container {\n",
              "      display:flex;\n",
              "      flex-wrap:wrap;\n",
              "      gap: 12px;\n",
              "    }\n",
              "\n",
              "    .colab-df-convert {\n",
              "      background-color: #E8F0FE;\n",
              "      border: none;\n",
              "      border-radius: 50%;\n",
              "      cursor: pointer;\n",
              "      display: none;\n",
              "      fill: #1967D2;\n",
              "      height: 32px;\n",
              "      padding: 0 0 0 0;\n",
              "      width: 32px;\n",
              "    }\n",
              "\n",
              "    .colab-df-convert:hover {\n",
              "      background-color: #E2EBFA;\n",
              "      box-shadow: 0px 1px 2px rgba(60, 64, 67, 0.3), 0px 1px 3px 1px rgba(60, 64, 67, 0.15);\n",
              "      fill: #174EA6;\n",
              "    }\n",
              "\n",
              "    [theme=dark] .colab-df-convert {\n",
              "      background-color: #3B4455;\n",
              "      fill: #D2E3FC;\n",
              "    }\n",
              "\n",
              "    [theme=dark] .colab-df-convert:hover {\n",
              "      background-color: #434B5C;\n",
              "      box-shadow: 0px 1px 3px 1px rgba(0, 0, 0, 0.15);\n",
              "      filter: drop-shadow(0px 1px 2px rgba(0, 0, 0, 0.3));\n",
              "      fill: #FFFFFF;\n",
              "    }\n",
              "  </style>\n",
              "\n",
              "      <script>\n",
              "        const buttonEl =\n",
              "          document.querySelector('#df-e79ba736-c10d-4fbf-a360-946416e028f2 button.colab-df-convert');\n",
              "        buttonEl.style.display =\n",
              "          google.colab.kernel.accessAllowed ? 'block' : 'none';\n",
              "\n",
              "        async function convertToInteractive(key) {\n",
              "          const element = document.querySelector('#df-e79ba736-c10d-4fbf-a360-946416e028f2');\n",
              "          const dataTable =\n",
              "            await google.colab.kernel.invokeFunction('convertToInteractive',\n",
              "                                                     [key], {});\n",
              "          if (!dataTable) return;\n",
              "\n",
              "          const docLinkHtml = 'Like what you see? Visit the ' +\n",
              "            '<a target=\"_blank\" href=https://colab.research.google.com/notebooks/data_table.ipynb>data table notebook</a>'\n",
              "            + ' to learn more about interactive tables.';\n",
              "          element.innerHTML = '';\n",
              "          dataTable['output_type'] = 'display_data';\n",
              "          await google.colab.output.renderOutput(dataTable, element);\n",
              "          const docLink = document.createElement('div');\n",
              "          docLink.innerHTML = docLinkHtml;\n",
              "          element.appendChild(docLink);\n",
              "        }\n",
              "      </script>\n",
              "    </div>\n",
              "  </div>\n",
              "  "
            ]
          },
          "metadata": {},
          "execution_count": 55
        }
      ]
    },
    {
      "cell_type": "code",
      "source": [
        "#overview of the last 10 row our data\n",
        "df.tail(5)"
      ],
      "metadata": {
        "colab": {
          "base_uri": "https://localhost:8080/",
          "height": 206
        },
        "id": "KUZNUsY0xn8p",
        "outputId": "5e5b09d0-8621-42d0-c6a0-2652fec4e041"
      },
      "execution_count": null,
      "outputs": [
        {
          "output_type": "execute_result",
          "data": {
            "text/plain": [
              "                  ride_id  rideable_type  started_at started_time    ended_at  \\\n",
              "5568663  51356F0EAD3B60BC  electric_bike  12/10/2021  11:39:19 PM  12/11/2021   \n",
              "5568664  652449A8854B21A2  electric_bike   12/6/2021  11:50:59 PM   12/7/2021   \n",
              "5568665  81D4E6D06574AB1A   classic_bike  12/13/2021  11:46:36 PM  12/14/2021   \n",
              "5568666  01B1C63CA38FD728  electric_bike  12/13/2021  11:24:39 PM  12/14/2021   \n",
              "5568667  B5320704500E5A82   classic_bike  12/18/2021  11:54:32 PM  12/19/2021   \n",
              "\n",
              "          ended_time         start_station_name  \\\n",
              "5568663  12:00:03 AM                        NaN   \n",
              "5568664  12:00:02 AM     Clinton St & Tilden St   \n",
              "5568665  12:00:02 AM    Franklin St & Monroe St   \n",
              "5568666  12:00:02 AM                        NaN   \n",
              "5568667  12:00:00 AM  Clark St & Wellington Ave   \n",
              "\n",
              "                            end_station_name member_casual  ride_length  \\\n",
              "5568663               Damen Ave & Foster Ave        member        85156   \n",
              "5568664                                  NaN        casual        85857   \n",
              "5568665               Clark St & Schiller St        member        85594   \n",
              "5568666                                  NaN        casual        84277   \n",
              "5568667  DuSable Lake Shore Dr & Belmont Ave        member        86072   \n",
              "\n",
              "         weekday month  \n",
              "5568663        6   Dec  \n",
              "5568664        2   Dec  \n",
              "5568665        2   Dec  \n",
              "5568666        2   Dec  \n",
              "5568667        7   Dec  "
            ],
            "text/html": [
              "\n",
              "  <div id=\"df-51481a1d-e457-40dc-be8b-f51d1f3d539b\">\n",
              "    <div class=\"colab-df-container\">\n",
              "      <div>\n",
              "<style scoped>\n",
              "    .dataframe tbody tr th:only-of-type {\n",
              "        vertical-align: middle;\n",
              "    }\n",
              "\n",
              "    .dataframe tbody tr th {\n",
              "        vertical-align: top;\n",
              "    }\n",
              "\n",
              "    .dataframe thead th {\n",
              "        text-align: right;\n",
              "    }\n",
              "</style>\n",
              "<table border=\"1\" class=\"dataframe\">\n",
              "  <thead>\n",
              "    <tr style=\"text-align: right;\">\n",
              "      <th></th>\n",
              "      <th>ride_id</th>\n",
              "      <th>rideable_type</th>\n",
              "      <th>started_at</th>\n",
              "      <th>started_time</th>\n",
              "      <th>ended_at</th>\n",
              "      <th>ended_time</th>\n",
              "      <th>start_station_name</th>\n",
              "      <th>end_station_name</th>\n",
              "      <th>member_casual</th>\n",
              "      <th>ride_length</th>\n",
              "      <th>weekday</th>\n",
              "      <th>month</th>\n",
              "    </tr>\n",
              "  </thead>\n",
              "  <tbody>\n",
              "    <tr>\n",
              "      <th>5568663</th>\n",
              "      <td>51356F0EAD3B60BC</td>\n",
              "      <td>electric_bike</td>\n",
              "      <td>12/10/2021</td>\n",
              "      <td>11:39:19 PM</td>\n",
              "      <td>12/11/2021</td>\n",
              "      <td>12:00:03 AM</td>\n",
              "      <td>NaN</td>\n",
              "      <td>Damen Ave &amp; Foster Ave</td>\n",
              "      <td>member</td>\n",
              "      <td>85156</td>\n",
              "      <td>6</td>\n",
              "      <td>Dec</td>\n",
              "    </tr>\n",
              "    <tr>\n",
              "      <th>5568664</th>\n",
              "      <td>652449A8854B21A2</td>\n",
              "      <td>electric_bike</td>\n",
              "      <td>12/6/2021</td>\n",
              "      <td>11:50:59 PM</td>\n",
              "      <td>12/7/2021</td>\n",
              "      <td>12:00:02 AM</td>\n",
              "      <td>Clinton St &amp; Tilden St</td>\n",
              "      <td>NaN</td>\n",
              "      <td>casual</td>\n",
              "      <td>85857</td>\n",
              "      <td>2</td>\n",
              "      <td>Dec</td>\n",
              "    </tr>\n",
              "    <tr>\n",
              "      <th>5568665</th>\n",
              "      <td>81D4E6D06574AB1A</td>\n",
              "      <td>classic_bike</td>\n",
              "      <td>12/13/2021</td>\n",
              "      <td>11:46:36 PM</td>\n",
              "      <td>12/14/2021</td>\n",
              "      <td>12:00:02 AM</td>\n",
              "      <td>Franklin St &amp; Monroe St</td>\n",
              "      <td>Clark St &amp; Schiller St</td>\n",
              "      <td>member</td>\n",
              "      <td>85594</td>\n",
              "      <td>2</td>\n",
              "      <td>Dec</td>\n",
              "    </tr>\n",
              "    <tr>\n",
              "      <th>5568666</th>\n",
              "      <td>01B1C63CA38FD728</td>\n",
              "      <td>electric_bike</td>\n",
              "      <td>12/13/2021</td>\n",
              "      <td>11:24:39 PM</td>\n",
              "      <td>12/14/2021</td>\n",
              "      <td>12:00:02 AM</td>\n",
              "      <td>NaN</td>\n",
              "      <td>NaN</td>\n",
              "      <td>casual</td>\n",
              "      <td>84277</td>\n",
              "      <td>2</td>\n",
              "      <td>Dec</td>\n",
              "    </tr>\n",
              "    <tr>\n",
              "      <th>5568667</th>\n",
              "      <td>B5320704500E5A82</td>\n",
              "      <td>classic_bike</td>\n",
              "      <td>12/18/2021</td>\n",
              "      <td>11:54:32 PM</td>\n",
              "      <td>12/19/2021</td>\n",
              "      <td>12:00:00 AM</td>\n",
              "      <td>Clark St &amp; Wellington Ave</td>\n",
              "      <td>DuSable Lake Shore Dr &amp; Belmont Ave</td>\n",
              "      <td>member</td>\n",
              "      <td>86072</td>\n",
              "      <td>7</td>\n",
              "      <td>Dec</td>\n",
              "    </tr>\n",
              "  </tbody>\n",
              "</table>\n",
              "</div>\n",
              "      <button class=\"colab-df-convert\" onclick=\"convertToInteractive('df-51481a1d-e457-40dc-be8b-f51d1f3d539b')\"\n",
              "              title=\"Convert this dataframe to an interactive table.\"\n",
              "              style=\"display:none;\">\n",
              "        \n",
              "  <svg xmlns=\"http://www.w3.org/2000/svg\" height=\"24px\"viewBox=\"0 0 24 24\"\n",
              "       width=\"24px\">\n",
              "    <path d=\"M0 0h24v24H0V0z\" fill=\"none\"/>\n",
              "    <path d=\"M18.56 5.44l.94 2.06.94-2.06 2.06-.94-2.06-.94-.94-2.06-.94 2.06-2.06.94zm-11 1L8.5 8.5l.94-2.06 2.06-.94-2.06-.94L8.5 2.5l-.94 2.06-2.06.94zm10 10l.94 2.06.94-2.06 2.06-.94-2.06-.94-.94-2.06-.94 2.06-2.06.94z\"/><path d=\"M17.41 7.96l-1.37-1.37c-.4-.4-.92-.59-1.43-.59-.52 0-1.04.2-1.43.59L10.3 9.45l-7.72 7.72c-.78.78-.78 2.05 0 2.83L4 21.41c.39.39.9.59 1.41.59.51 0 1.02-.2 1.41-.59l7.78-7.78 2.81-2.81c.8-.78.8-2.07 0-2.86zM5.41 20L4 18.59l7.72-7.72 1.47 1.35L5.41 20z\"/>\n",
              "  </svg>\n",
              "      </button>\n",
              "      \n",
              "  <style>\n",
              "    .colab-df-container {\n",
              "      display:flex;\n",
              "      flex-wrap:wrap;\n",
              "      gap: 12px;\n",
              "    }\n",
              "\n",
              "    .colab-df-convert {\n",
              "      background-color: #E8F0FE;\n",
              "      border: none;\n",
              "      border-radius: 50%;\n",
              "      cursor: pointer;\n",
              "      display: none;\n",
              "      fill: #1967D2;\n",
              "      height: 32px;\n",
              "      padding: 0 0 0 0;\n",
              "      width: 32px;\n",
              "    }\n",
              "\n",
              "    .colab-df-convert:hover {\n",
              "      background-color: #E2EBFA;\n",
              "      box-shadow: 0px 1px 2px rgba(60, 64, 67, 0.3), 0px 1px 3px 1px rgba(60, 64, 67, 0.15);\n",
              "      fill: #174EA6;\n",
              "    }\n",
              "\n",
              "    [theme=dark] .colab-df-convert {\n",
              "      background-color: #3B4455;\n",
              "      fill: #D2E3FC;\n",
              "    }\n",
              "\n",
              "    [theme=dark] .colab-df-convert:hover {\n",
              "      background-color: #434B5C;\n",
              "      box-shadow: 0px 1px 3px 1px rgba(0, 0, 0, 0.15);\n",
              "      filter: drop-shadow(0px 1px 2px rgba(0, 0, 0, 0.3));\n",
              "      fill: #FFFFFF;\n",
              "    }\n",
              "  </style>\n",
              "\n",
              "      <script>\n",
              "        const buttonEl =\n",
              "          document.querySelector('#df-51481a1d-e457-40dc-be8b-f51d1f3d539b button.colab-df-convert');\n",
              "        buttonEl.style.display =\n",
              "          google.colab.kernel.accessAllowed ? 'block' : 'none';\n",
              "\n",
              "        async function convertToInteractive(key) {\n",
              "          const element = document.querySelector('#df-51481a1d-e457-40dc-be8b-f51d1f3d539b');\n",
              "          const dataTable =\n",
              "            await google.colab.kernel.invokeFunction('convertToInteractive',\n",
              "                                                     [key], {});\n",
              "          if (!dataTable) return;\n",
              "\n",
              "          const docLinkHtml = 'Like what you see? Visit the ' +\n",
              "            '<a target=\"_blank\" href=https://colab.research.google.com/notebooks/data_table.ipynb>data table notebook</a>'\n",
              "            + ' to learn more about interactive tables.';\n",
              "          element.innerHTML = '';\n",
              "          dataTable['output_type'] = 'display_data';\n",
              "          await google.colab.output.renderOutput(dataTable, element);\n",
              "          const docLink = document.createElement('div');\n",
              "          docLink.innerHTML = docLinkHtml;\n",
              "          element.appendChild(docLink);\n",
              "        }\n",
              "      </script>\n",
              "    </div>\n",
              "  </div>\n",
              "  "
            ]
          },
          "metadata": {},
          "execution_count": 56
        }
      ]
    },
    {
      "cell_type": "code",
      "source": [
        "#getting the shape and length of our data\n",
        "df.shape"
      ],
      "metadata": {
        "colab": {
          "base_uri": "https://localhost:8080/"
        },
        "id": "3Rf-OlSVxRKs",
        "outputId": "cc01fdb4-1f04-4768-f05a-918a595f1456"
      },
      "execution_count": null,
      "outputs": [
        {
          "output_type": "execute_result",
          "data": {
            "text/plain": [
              "(5568668, 12)"
            ]
          },
          "metadata": {},
          "execution_count": 57
        }
      ]
    },
    {
      "cell_type": "code",
      "source": [
        "len(df)"
      ],
      "metadata": {
        "colab": {
          "base_uri": "https://localhost:8080/"
        },
        "id": "QsweCyNOxvli",
        "outputId": "95113732-021a-4b07-881e-cb28ce603471"
      },
      "execution_count": null,
      "outputs": [
        {
          "output_type": "execute_result",
          "data": {
            "text/plain": [
              "5568668"
            ]
          },
          "metadata": {},
          "execution_count": 58
        }
      ]
    },
    {
      "cell_type": "code",
      "source": [
        "#checking for null value\n",
        "df.isnull().any()"
      ],
      "metadata": {
        "colab": {
          "base_uri": "https://localhost:8080/"
        },
        "id": "by_7Y_iFx9SK",
        "outputId": "ecc7d090-887a-419b-d3f1-d0c634aa5ff5"
      },
      "execution_count": null,
      "outputs": [
        {
          "output_type": "execute_result",
          "data": {
            "text/plain": [
              "ride_id               False\n",
              "rideable_type         False\n",
              "started_at            False\n",
              "started_time          False\n",
              "ended_at              False\n",
              "ended_time            False\n",
              "start_station_name     True\n",
              "end_station_name       True\n",
              "member_casual         False\n",
              "ride_length           False\n",
              "weekday               False\n",
              "month                 False\n",
              "dtype: bool"
            ]
          },
          "metadata": {},
          "execution_count": 59
        }
      ]
    },
    {
      "cell_type": "code",
      "source": [
        "#getting the total num of null value\n",
        "df.isnull().values.sum()"
      ],
      "metadata": {
        "colab": {
          "base_uri": "https://localhost:8080/"
        },
        "id": "9rW8dhQzyGSy",
        "outputId": "ee287bae-7c87-473d-fcf6-d303ac7c8ab0"
      },
      "execution_count": null,
      "outputs": [
        {
          "output_type": "execute_result",
          "data": {
            "text/plain": [
              "1410849"
            ]
          },
          "metadata": {},
          "execution_count": 60
        }
      ]
    },
    {
      "cell_type": "code",
      "source": [
        "#checking for duplicate\n",
        "df.duplicated()"
      ],
      "metadata": {
        "colab": {
          "base_uri": "https://localhost:8080/"
        },
        "id": "FLoz0AWWyNNi",
        "outputId": "6efcafe8-241b-4e3d-b143-d36f6f14db6c"
      },
      "execution_count": null,
      "outputs": [
        {
          "output_type": "execute_result",
          "data": {
            "text/plain": [
              "0          False\n",
              "1          False\n",
              "2          False\n",
              "3          False\n",
              "4          False\n",
              "           ...  \n",
              "5568663    False\n",
              "5568664    False\n",
              "5568665    False\n",
              "5568666    False\n",
              "5568667    False\n",
              "Length: 5568668, dtype: bool"
            ]
          },
          "metadata": {},
          "execution_count": 61
        }
      ]
    },
    {
      "cell_type": "code",
      "source": [
        "#checking the data type\n",
        "print(df.dtypes)"
      ],
      "metadata": {
        "colab": {
          "base_uri": "https://localhost:8080/"
        },
        "id": "7w28OFC63WzR",
        "outputId": "cf3d5fc3-51ad-4078-d0d5-8312e8af181a"
      },
      "execution_count": null,
      "outputs": [
        {
          "output_type": "stream",
          "name": "stdout",
          "text": [
            "ride_id               object\n",
            "rideable_type         object\n",
            "started_at            object\n",
            "started_time          object\n",
            "ended_at              object\n",
            "ended_time            object\n",
            "start_station_name    object\n",
            "end_station_name      object\n",
            "member_casual         object\n",
            "ride_length            int64\n",
            "weekday                int64\n",
            "month                 object\n",
            "dtype: object\n"
          ]
        }
      ]
    },
    {
      "cell_type": "markdown",
      "source": [
        "***Time for Analysis.\n",
        "we will now***\n",
        "\n",
        "*  Agreegate the Data\n",
        "*  Format the data\n",
        "*   Analyze the data\n",
        "*   perform some calculation \n",
        "\n"
      ],
      "metadata": {
        "id": "g5dBP6FCMQ7y"
      }
    },
    {
      "cell_type": "code",
      "source": [
        "#converting the start and end date to datetime format\n",
        "df[['started_at','ended_at']] = df[['started_at','ended_at']].apply(pd.to_datetime)"
      ],
      "metadata": {
        "id": "HD7jJiKq3qMn"
      },
      "execution_count": null,
      "outputs": []
    },
    {
      "cell_type": "code",
      "source": [
        "print(df.dtypes)"
      ],
      "metadata": {
        "colab": {
          "base_uri": "https://localhost:8080/"
        },
        "id": "YAzCny_3TdrJ",
        "outputId": "1efc2511-bb3e-4a28-9bd4-f16fa4822b4c"
      },
      "execution_count": null,
      "outputs": [
        {
          "output_type": "stream",
          "name": "stdout",
          "text": [
            "ride_id                       object\n",
            "rideable_type                 object\n",
            "started_at            datetime64[ns]\n",
            "started_time                  object\n",
            "ended_at              datetime64[ns]\n",
            "ended_time                    object\n",
            "start_station_name            object\n",
            "end_station_name              object\n",
            "member_casual                 object\n",
            "ride_length                    int64\n",
            "weekday                        int64\n",
            "month                         object\n",
            "dtype: object\n"
          ]
        }
      ]
    },
    {
      "cell_type": "code",
      "source": [
        "#setting ride_id as the index\n",
        "df.set_index('ride_id')"
      ],
      "metadata": {
        "colab": {
          "base_uri": "https://localhost:8080/",
          "height": 455
        },
        "id": "bjHluc7ycYGP",
        "outputId": "0c7a09b7-5b98-4479-ae6a-a93e72a11a43"
      },
      "execution_count": null,
      "outputs": [
        {
          "output_type": "execute_result",
          "data": {
            "text/plain": [
              "                  rideable_type started_at started_time   ended_at  \\\n",
              "ride_id                                                              \n",
              "E19E6F1B8D4C42ED  electric_bike 2021-01-23   4:14:19 PM 2021-01-23   \n",
              "DC88F20C2C55F27F  electric_bike 2021-01-27   6:43:08 PM 2021-01-27   \n",
              "EC45C94683FE3F27  electric_bike 2021-01-21  10:35:54 PM 2021-01-21   \n",
              "4FA453A75AE377DB  electric_bike 2021-01-07   1:31:13 PM 2021-01-07   \n",
              "BE5E8EB4E7263A0B  electric_bike 2021-01-23   2:24:02 AM 2021-01-23   \n",
              "...                         ...        ...          ...        ...   \n",
              "51356F0EAD3B60BC  electric_bike 2021-12-10  11:39:19 PM 2021-12-11   \n",
              "652449A8854B21A2  electric_bike 2021-12-06  11:50:59 PM 2021-12-07   \n",
              "81D4E6D06574AB1A   classic_bike 2021-12-13  11:46:36 PM 2021-12-14   \n",
              "01B1C63CA38FD728  electric_bike 2021-12-13  11:24:39 PM 2021-12-14   \n",
              "B5320704500E5A82   classic_bike 2021-12-18  11:54:32 PM 2021-12-19   \n",
              "\n",
              "                   ended_time          start_station_name  \\\n",
              "ride_id                                                     \n",
              "E19E6F1B8D4C42ED   4:24:44 PM  California Ave & Cortez St   \n",
              "DC88F20C2C55F27F   6:47:12 PM  California Ave & Cortez St   \n",
              "EC45C94683FE3F27  10:37:14 PM  California Ave & Cortez St   \n",
              "4FA453A75AE377DB   1:42:55 PM  California Ave & Cortez St   \n",
              "BE5E8EB4E7263A0B   2:24:45 AM  California Ave & Cortez St   \n",
              "...                       ...                         ...   \n",
              "51356F0EAD3B60BC  12:00:03 AM                         NaN   \n",
              "652449A8854B21A2  12:00:02 AM      Clinton St & Tilden St   \n",
              "81D4E6D06574AB1A  12:00:02 AM     Franklin St & Monroe St   \n",
              "01B1C63CA38FD728  12:00:02 AM                         NaN   \n",
              "B5320704500E5A82  12:00:00 AM   Clark St & Wellington Ave   \n",
              "\n",
              "                                     end_station_name member_casual  \\\n",
              "ride_id                                                               \n",
              "E19E6F1B8D4C42ED                                  NaN        member   \n",
              "DC88F20C2C55F27F                                  NaN        member   \n",
              "EC45C94683FE3F27                                  NaN        member   \n",
              "4FA453A75AE377DB                                  NaN        member   \n",
              "BE5E8EB4E7263A0B                                  NaN        casual   \n",
              "...                                               ...           ...   \n",
              "51356F0EAD3B60BC               Damen Ave & Foster Ave        member   \n",
              "652449A8854B21A2                                  NaN        casual   \n",
              "81D4E6D06574AB1A               Clark St & Schiller St        member   \n",
              "01B1C63CA38FD728                                  NaN        casual   \n",
              "B5320704500E5A82  DuSable Lake Shore Dr & Belmont Ave        member   \n",
              "\n",
              "                  ride_length  weekday month  \n",
              "ride_id                                       \n",
              "E19E6F1B8D4C42ED          625        7   Jan  \n",
              "DC88F20C2C55F27F          244        4   Jan  \n",
              "EC45C94683FE3F27           80        5   Jan  \n",
              "4FA453A75AE377DB          702        5   Jan  \n",
              "BE5E8EB4E7263A0B           43        7   Jan  \n",
              "...                       ...      ...   ...  \n",
              "51356F0EAD3B60BC        85156        6   Dec  \n",
              "652449A8854B21A2        85857        2   Dec  \n",
              "81D4E6D06574AB1A        85594        2   Dec  \n",
              "01B1C63CA38FD728        84277        2   Dec  \n",
              "B5320704500E5A82        86072        7   Dec  \n",
              "\n",
              "[5568668 rows x 11 columns]"
            ],
            "text/html": [
              "\n",
              "  <div id=\"df-5a9e7a08-8c2c-4f3d-adb1-8454464d984a\">\n",
              "    <div class=\"colab-df-container\">\n",
              "      <div>\n",
              "<style scoped>\n",
              "    .dataframe tbody tr th:only-of-type {\n",
              "        vertical-align: middle;\n",
              "    }\n",
              "\n",
              "    .dataframe tbody tr th {\n",
              "        vertical-align: top;\n",
              "    }\n",
              "\n",
              "    .dataframe thead th {\n",
              "        text-align: right;\n",
              "    }\n",
              "</style>\n",
              "<table border=\"1\" class=\"dataframe\">\n",
              "  <thead>\n",
              "    <tr style=\"text-align: right;\">\n",
              "      <th></th>\n",
              "      <th>rideable_type</th>\n",
              "      <th>started_at</th>\n",
              "      <th>started_time</th>\n",
              "      <th>ended_at</th>\n",
              "      <th>ended_time</th>\n",
              "      <th>start_station_name</th>\n",
              "      <th>end_station_name</th>\n",
              "      <th>member_casual</th>\n",
              "      <th>ride_length</th>\n",
              "      <th>weekday</th>\n",
              "      <th>month</th>\n",
              "    </tr>\n",
              "    <tr>\n",
              "      <th>ride_id</th>\n",
              "      <th></th>\n",
              "      <th></th>\n",
              "      <th></th>\n",
              "      <th></th>\n",
              "      <th></th>\n",
              "      <th></th>\n",
              "      <th></th>\n",
              "      <th></th>\n",
              "      <th></th>\n",
              "      <th></th>\n",
              "      <th></th>\n",
              "    </tr>\n",
              "  </thead>\n",
              "  <tbody>\n",
              "    <tr>\n",
              "      <th>E19E6F1B8D4C42ED</th>\n",
              "      <td>electric_bike</td>\n",
              "      <td>2021-01-23</td>\n",
              "      <td>4:14:19 PM</td>\n",
              "      <td>2021-01-23</td>\n",
              "      <td>4:24:44 PM</td>\n",
              "      <td>California Ave &amp; Cortez St</td>\n",
              "      <td>NaN</td>\n",
              "      <td>member</td>\n",
              "      <td>625</td>\n",
              "      <td>7</td>\n",
              "      <td>Jan</td>\n",
              "    </tr>\n",
              "    <tr>\n",
              "      <th>DC88F20C2C55F27F</th>\n",
              "      <td>electric_bike</td>\n",
              "      <td>2021-01-27</td>\n",
              "      <td>6:43:08 PM</td>\n",
              "      <td>2021-01-27</td>\n",
              "      <td>6:47:12 PM</td>\n",
              "      <td>California Ave &amp; Cortez St</td>\n",
              "      <td>NaN</td>\n",
              "      <td>member</td>\n",
              "      <td>244</td>\n",
              "      <td>4</td>\n",
              "      <td>Jan</td>\n",
              "    </tr>\n",
              "    <tr>\n",
              "      <th>EC45C94683FE3F27</th>\n",
              "      <td>electric_bike</td>\n",
              "      <td>2021-01-21</td>\n",
              "      <td>10:35:54 PM</td>\n",
              "      <td>2021-01-21</td>\n",
              "      <td>10:37:14 PM</td>\n",
              "      <td>California Ave &amp; Cortez St</td>\n",
              "      <td>NaN</td>\n",
              "      <td>member</td>\n",
              "      <td>80</td>\n",
              "      <td>5</td>\n",
              "      <td>Jan</td>\n",
              "    </tr>\n",
              "    <tr>\n",
              "      <th>4FA453A75AE377DB</th>\n",
              "      <td>electric_bike</td>\n",
              "      <td>2021-01-07</td>\n",
              "      <td>1:31:13 PM</td>\n",
              "      <td>2021-01-07</td>\n",
              "      <td>1:42:55 PM</td>\n",
              "      <td>California Ave &amp; Cortez St</td>\n",
              "      <td>NaN</td>\n",
              "      <td>member</td>\n",
              "      <td>702</td>\n",
              "      <td>5</td>\n",
              "      <td>Jan</td>\n",
              "    </tr>\n",
              "    <tr>\n",
              "      <th>BE5E8EB4E7263A0B</th>\n",
              "      <td>electric_bike</td>\n",
              "      <td>2021-01-23</td>\n",
              "      <td>2:24:02 AM</td>\n",
              "      <td>2021-01-23</td>\n",
              "      <td>2:24:45 AM</td>\n",
              "      <td>California Ave &amp; Cortez St</td>\n",
              "      <td>NaN</td>\n",
              "      <td>casual</td>\n",
              "      <td>43</td>\n",
              "      <td>7</td>\n",
              "      <td>Jan</td>\n",
              "    </tr>\n",
              "    <tr>\n",
              "      <th>...</th>\n",
              "      <td>...</td>\n",
              "      <td>...</td>\n",
              "      <td>...</td>\n",
              "      <td>...</td>\n",
              "      <td>...</td>\n",
              "      <td>...</td>\n",
              "      <td>...</td>\n",
              "      <td>...</td>\n",
              "      <td>...</td>\n",
              "      <td>...</td>\n",
              "      <td>...</td>\n",
              "    </tr>\n",
              "    <tr>\n",
              "      <th>51356F0EAD3B60BC</th>\n",
              "      <td>electric_bike</td>\n",
              "      <td>2021-12-10</td>\n",
              "      <td>11:39:19 PM</td>\n",
              "      <td>2021-12-11</td>\n",
              "      <td>12:00:03 AM</td>\n",
              "      <td>NaN</td>\n",
              "      <td>Damen Ave &amp; Foster Ave</td>\n",
              "      <td>member</td>\n",
              "      <td>85156</td>\n",
              "      <td>6</td>\n",
              "      <td>Dec</td>\n",
              "    </tr>\n",
              "    <tr>\n",
              "      <th>652449A8854B21A2</th>\n",
              "      <td>electric_bike</td>\n",
              "      <td>2021-12-06</td>\n",
              "      <td>11:50:59 PM</td>\n",
              "      <td>2021-12-07</td>\n",
              "      <td>12:00:02 AM</td>\n",
              "      <td>Clinton St &amp; Tilden St</td>\n",
              "      <td>NaN</td>\n",
              "      <td>casual</td>\n",
              "      <td>85857</td>\n",
              "      <td>2</td>\n",
              "      <td>Dec</td>\n",
              "    </tr>\n",
              "    <tr>\n",
              "      <th>81D4E6D06574AB1A</th>\n",
              "      <td>classic_bike</td>\n",
              "      <td>2021-12-13</td>\n",
              "      <td>11:46:36 PM</td>\n",
              "      <td>2021-12-14</td>\n",
              "      <td>12:00:02 AM</td>\n",
              "      <td>Franklin St &amp; Monroe St</td>\n",
              "      <td>Clark St &amp; Schiller St</td>\n",
              "      <td>member</td>\n",
              "      <td>85594</td>\n",
              "      <td>2</td>\n",
              "      <td>Dec</td>\n",
              "    </tr>\n",
              "    <tr>\n",
              "      <th>01B1C63CA38FD728</th>\n",
              "      <td>electric_bike</td>\n",
              "      <td>2021-12-13</td>\n",
              "      <td>11:24:39 PM</td>\n",
              "      <td>2021-12-14</td>\n",
              "      <td>12:00:02 AM</td>\n",
              "      <td>NaN</td>\n",
              "      <td>NaN</td>\n",
              "      <td>casual</td>\n",
              "      <td>84277</td>\n",
              "      <td>2</td>\n",
              "      <td>Dec</td>\n",
              "    </tr>\n",
              "    <tr>\n",
              "      <th>B5320704500E5A82</th>\n",
              "      <td>classic_bike</td>\n",
              "      <td>2021-12-18</td>\n",
              "      <td>11:54:32 PM</td>\n",
              "      <td>2021-12-19</td>\n",
              "      <td>12:00:00 AM</td>\n",
              "      <td>Clark St &amp; Wellington Ave</td>\n",
              "      <td>DuSable Lake Shore Dr &amp; Belmont Ave</td>\n",
              "      <td>member</td>\n",
              "      <td>86072</td>\n",
              "      <td>7</td>\n",
              "      <td>Dec</td>\n",
              "    </tr>\n",
              "  </tbody>\n",
              "</table>\n",
              "<p>5568668 rows × 11 columns</p>\n",
              "</div>\n",
              "      <button class=\"colab-df-convert\" onclick=\"convertToInteractive('df-5a9e7a08-8c2c-4f3d-adb1-8454464d984a')\"\n",
              "              title=\"Convert this dataframe to an interactive table.\"\n",
              "              style=\"display:none;\">\n",
              "        \n",
              "  <svg xmlns=\"http://www.w3.org/2000/svg\" height=\"24px\"viewBox=\"0 0 24 24\"\n",
              "       width=\"24px\">\n",
              "    <path d=\"M0 0h24v24H0V0z\" fill=\"none\"/>\n",
              "    <path d=\"M18.56 5.44l.94 2.06.94-2.06 2.06-.94-2.06-.94-.94-2.06-.94 2.06-2.06.94zm-11 1L8.5 8.5l.94-2.06 2.06-.94-2.06-.94L8.5 2.5l-.94 2.06-2.06.94zm10 10l.94 2.06.94-2.06 2.06-.94-2.06-.94-.94-2.06-.94 2.06-2.06.94z\"/><path d=\"M17.41 7.96l-1.37-1.37c-.4-.4-.92-.59-1.43-.59-.52 0-1.04.2-1.43.59L10.3 9.45l-7.72 7.72c-.78.78-.78 2.05 0 2.83L4 21.41c.39.39.9.59 1.41.59.51 0 1.02-.2 1.41-.59l7.78-7.78 2.81-2.81c.8-.78.8-2.07 0-2.86zM5.41 20L4 18.59l7.72-7.72 1.47 1.35L5.41 20z\"/>\n",
              "  </svg>\n",
              "      </button>\n",
              "      \n",
              "  <style>\n",
              "    .colab-df-container {\n",
              "      display:flex;\n",
              "      flex-wrap:wrap;\n",
              "      gap: 12px;\n",
              "    }\n",
              "\n",
              "    .colab-df-convert {\n",
              "      background-color: #E8F0FE;\n",
              "      border: none;\n",
              "      border-radius: 50%;\n",
              "      cursor: pointer;\n",
              "      display: none;\n",
              "      fill: #1967D2;\n",
              "      height: 32px;\n",
              "      padding: 0 0 0 0;\n",
              "      width: 32px;\n",
              "    }\n",
              "\n",
              "    .colab-df-convert:hover {\n",
              "      background-color: #E2EBFA;\n",
              "      box-shadow: 0px 1px 2px rgba(60, 64, 67, 0.3), 0px 1px 3px 1px rgba(60, 64, 67, 0.15);\n",
              "      fill: #174EA6;\n",
              "    }\n",
              "\n",
              "    [theme=dark] .colab-df-convert {\n",
              "      background-color: #3B4455;\n",
              "      fill: #D2E3FC;\n",
              "    }\n",
              "\n",
              "    [theme=dark] .colab-df-convert:hover {\n",
              "      background-color: #434B5C;\n",
              "      box-shadow: 0px 1px 3px 1px rgba(0, 0, 0, 0.15);\n",
              "      filter: drop-shadow(0px 1px 2px rgba(0, 0, 0, 0.3));\n",
              "      fill: #FFFFFF;\n",
              "    }\n",
              "  </style>\n",
              "\n",
              "      <script>\n",
              "        const buttonEl =\n",
              "          document.querySelector('#df-5a9e7a08-8c2c-4f3d-adb1-8454464d984a button.colab-df-convert');\n",
              "        buttonEl.style.display =\n",
              "          google.colab.kernel.accessAllowed ? 'block' : 'none';\n",
              "\n",
              "        async function convertToInteractive(key) {\n",
              "          const element = document.querySelector('#df-5a9e7a08-8c2c-4f3d-adb1-8454464d984a');\n",
              "          const dataTable =\n",
              "            await google.colab.kernel.invokeFunction('convertToInteractive',\n",
              "                                                     [key], {});\n",
              "          if (!dataTable) return;\n",
              "\n",
              "          const docLinkHtml = 'Like what you see? Visit the ' +\n",
              "            '<a target=\"_blank\" href=https://colab.research.google.com/notebooks/data_table.ipynb>data table notebook</a>'\n",
              "            + ' to learn more about interactive tables.';\n",
              "          element.innerHTML = '';\n",
              "          dataTable['output_type'] = 'display_data';\n",
              "          await google.colab.output.renderOutput(dataTable, element);\n",
              "          const docLink = document.createElement('div');\n",
              "          docLink.innerHTML = docLinkHtml;\n",
              "          element.appendChild(docLink);\n",
              "        }\n",
              "      </script>\n",
              "    </div>\n",
              "  </div>\n",
              "  "
            ]
          },
          "metadata": {},
          "execution_count": 67
        }
      ]
    },
    {
      "cell_type": "code",
      "source": [
        "#droping every rows with null value\n",
        "df1 = df.dropna()"
      ],
      "metadata": {
        "id": "fpzp2O6edQyy"
      },
      "execution_count": null,
      "outputs": []
    },
    {
      "cell_type": "code",
      "source": [
        "# statistical analysis of the ride_length\n",
        "df1.agg(\n",
        "    {\n",
        "        \"ride_length\": [\"min\", \"max\", \"median\", \"skew\"]\n",
        "        \n",
        "    }\n",
        ")"
      ],
      "metadata": {
        "colab": {
          "base_uri": "https://localhost:8080/",
          "height": 175
        },
        "id": "8d5i6GNbyNun",
        "outputId": "6059a0cb-f5ae-455f-8c49-dbf1e3bab803"
      },
      "execution_count": null,
      "outputs": [
        {
          "output_type": "execute_result",
          "data": {
            "text/plain": [
              "         ride_length\n",
              "min         0.000000\n",
              "max     86366.000000\n",
              "median    729.000000\n",
              "skew       12.779442"
            ],
            "text/html": [
              "\n",
              "  <div id=\"df-7f7af494-81be-4cea-bd59-09ff18496381\">\n",
              "    <div class=\"colab-df-container\">\n",
              "      <div>\n",
              "<style scoped>\n",
              "    .dataframe tbody tr th:only-of-type {\n",
              "        vertical-align: middle;\n",
              "    }\n",
              "\n",
              "    .dataframe tbody tr th {\n",
              "        vertical-align: top;\n",
              "    }\n",
              "\n",
              "    .dataframe thead th {\n",
              "        text-align: right;\n",
              "    }\n",
              "</style>\n",
              "<table border=\"1\" class=\"dataframe\">\n",
              "  <thead>\n",
              "    <tr style=\"text-align: right;\">\n",
              "      <th></th>\n",
              "      <th>ride_length</th>\n",
              "    </tr>\n",
              "  </thead>\n",
              "  <tbody>\n",
              "    <tr>\n",
              "      <th>min</th>\n",
              "      <td>0.000000</td>\n",
              "    </tr>\n",
              "    <tr>\n",
              "      <th>max</th>\n",
              "      <td>86366.000000</td>\n",
              "    </tr>\n",
              "    <tr>\n",
              "      <th>median</th>\n",
              "      <td>729.000000</td>\n",
              "    </tr>\n",
              "    <tr>\n",
              "      <th>skew</th>\n",
              "      <td>12.779442</td>\n",
              "    </tr>\n",
              "  </tbody>\n",
              "</table>\n",
              "</div>\n",
              "      <button class=\"colab-df-convert\" onclick=\"convertToInteractive('df-7f7af494-81be-4cea-bd59-09ff18496381')\"\n",
              "              title=\"Convert this dataframe to an interactive table.\"\n",
              "              style=\"display:none;\">\n",
              "        \n",
              "  <svg xmlns=\"http://www.w3.org/2000/svg\" height=\"24px\"viewBox=\"0 0 24 24\"\n",
              "       width=\"24px\">\n",
              "    <path d=\"M0 0h24v24H0V0z\" fill=\"none\"/>\n",
              "    <path d=\"M18.56 5.44l.94 2.06.94-2.06 2.06-.94-2.06-.94-.94-2.06-.94 2.06-2.06.94zm-11 1L8.5 8.5l.94-2.06 2.06-.94-2.06-.94L8.5 2.5l-.94 2.06-2.06.94zm10 10l.94 2.06.94-2.06 2.06-.94-2.06-.94-.94-2.06-.94 2.06-2.06.94z\"/><path d=\"M17.41 7.96l-1.37-1.37c-.4-.4-.92-.59-1.43-.59-.52 0-1.04.2-1.43.59L10.3 9.45l-7.72 7.72c-.78.78-.78 2.05 0 2.83L4 21.41c.39.39.9.59 1.41.59.51 0 1.02-.2 1.41-.59l7.78-7.78 2.81-2.81c.8-.78.8-2.07 0-2.86zM5.41 20L4 18.59l7.72-7.72 1.47 1.35L5.41 20z\"/>\n",
              "  </svg>\n",
              "      </button>\n",
              "      \n",
              "  <style>\n",
              "    .colab-df-container {\n",
              "      display:flex;\n",
              "      flex-wrap:wrap;\n",
              "      gap: 12px;\n",
              "    }\n",
              "\n",
              "    .colab-df-convert {\n",
              "      background-color: #E8F0FE;\n",
              "      border: none;\n",
              "      border-radius: 50%;\n",
              "      cursor: pointer;\n",
              "      display: none;\n",
              "      fill: #1967D2;\n",
              "      height: 32px;\n",
              "      padding: 0 0 0 0;\n",
              "      width: 32px;\n",
              "    }\n",
              "\n",
              "    .colab-df-convert:hover {\n",
              "      background-color: #E2EBFA;\n",
              "      box-shadow: 0px 1px 2px rgba(60, 64, 67, 0.3), 0px 1px 3px 1px rgba(60, 64, 67, 0.15);\n",
              "      fill: #174EA6;\n",
              "    }\n",
              "\n",
              "    [theme=dark] .colab-df-convert {\n",
              "      background-color: #3B4455;\n",
              "      fill: #D2E3FC;\n",
              "    }\n",
              "\n",
              "    [theme=dark] .colab-df-convert:hover {\n",
              "      background-color: #434B5C;\n",
              "      box-shadow: 0px 1px 3px 1px rgba(0, 0, 0, 0.15);\n",
              "      filter: drop-shadow(0px 1px 2px rgba(0, 0, 0, 0.3));\n",
              "      fill: #FFFFFF;\n",
              "    }\n",
              "  </style>\n",
              "\n",
              "      <script>\n",
              "        const buttonEl =\n",
              "          document.querySelector('#df-7f7af494-81be-4cea-bd59-09ff18496381 button.colab-df-convert');\n",
              "        buttonEl.style.display =\n",
              "          google.colab.kernel.accessAllowed ? 'block' : 'none';\n",
              "\n",
              "        async function convertToInteractive(key) {\n",
              "          const element = document.querySelector('#df-7f7af494-81be-4cea-bd59-09ff18496381');\n",
              "          const dataTable =\n",
              "            await google.colab.kernel.invokeFunction('convertToInteractive',\n",
              "                                                     [key], {});\n",
              "          if (!dataTable) return;\n",
              "\n",
              "          const docLinkHtml = 'Like what you see? Visit the ' +\n",
              "            '<a target=\"_blank\" href=https://colab.research.google.com/notebooks/data_table.ipynb>data table notebook</a>'\n",
              "            + ' to learn more about interactive tables.';\n",
              "          element.innerHTML = '';\n",
              "          dataTable['output_type'] = 'display_data';\n",
              "          await google.colab.output.renderOutput(dataTable, element);\n",
              "          const docLink = document.createElement('div');\n",
              "          docLink.innerHTML = docLinkHtml;\n",
              "          element.appendChild(docLink);\n",
              "        }\n",
              "      </script>\n",
              "    </div>\n",
              "  </div>\n",
              "  "
            ]
          },
          "metadata": {},
          "execution_count": 69
        }
      ]
    },
    {
      "cell_type": "code",
      "source": [
        "df1[\"ride_length\"].mode()"
      ],
      "metadata": {
        "colab": {
          "base_uri": "https://localhost:8080/"
        },
        "id": "K3uKFwG5PjiS",
        "outputId": "4e707501-769b-4a0d-fb38-d60041371bb8"
      },
      "execution_count": null,
      "outputs": [
        {
          "output_type": "execute_result",
          "data": {
            "text/plain": [
              "0    352\n",
              "dtype: int64"
            ]
          },
          "metadata": {},
          "execution_count": 70
        }
      ]
    },
    {
      "cell_type": "code",
      "source": [
        "df1[\"weekday\"].mode()"
      ],
      "metadata": {
        "colab": {
          "base_uri": "https://localhost:8080/"
        },
        "id": "YE7pdhYjPotD",
        "outputId": "cb68f64e-7d8d-45bd-8ea4-c50738fbd68d"
      },
      "execution_count": null,
      "outputs": [
        {
          "output_type": "execute_result",
          "data": {
            "text/plain": [
              "0    7\n",
              "dtype: int64"
            ]
          },
          "metadata": {},
          "execution_count": 71
        }
      ]
    },
    {
      "cell_type": "code",
      "source": [
        "# further statistical description of our data\n",
        "df1.describe().T"
      ],
      "metadata": {
        "colab": {
          "base_uri": "https://localhost:8080/",
          "height": 112
        },
        "id": "SgSDfjpvPu7K",
        "outputId": "f2c5723d-e1f1-43e9-8fbb-2597204248a7"
      },
      "execution_count": null,
      "outputs": [
        {
          "output_type": "execute_result",
          "data": {
            "text/plain": [
              "                 count         mean          std  min    25%    50%     75%  \\\n",
              "ride_length  4574074.0  1542.741194  5951.191746  0.0  415.0  729.0  1320.0   \n",
              "weekday      4574074.0     4.105038     2.082535  1.0    2.0    4.0     6.0   \n",
              "\n",
              "                 max  \n",
              "ride_length  86366.0  \n",
              "weekday          7.0  "
            ],
            "text/html": [
              "\n",
              "  <div id=\"df-2b114ec6-17d2-428e-adba-1f514dcf5935\">\n",
              "    <div class=\"colab-df-container\">\n",
              "      <div>\n",
              "<style scoped>\n",
              "    .dataframe tbody tr th:only-of-type {\n",
              "        vertical-align: middle;\n",
              "    }\n",
              "\n",
              "    .dataframe tbody tr th {\n",
              "        vertical-align: top;\n",
              "    }\n",
              "\n",
              "    .dataframe thead th {\n",
              "        text-align: right;\n",
              "    }\n",
              "</style>\n",
              "<table border=\"1\" class=\"dataframe\">\n",
              "  <thead>\n",
              "    <tr style=\"text-align: right;\">\n",
              "      <th></th>\n",
              "      <th>count</th>\n",
              "      <th>mean</th>\n",
              "      <th>std</th>\n",
              "      <th>min</th>\n",
              "      <th>25%</th>\n",
              "      <th>50%</th>\n",
              "      <th>75%</th>\n",
              "      <th>max</th>\n",
              "    </tr>\n",
              "  </thead>\n",
              "  <tbody>\n",
              "    <tr>\n",
              "      <th>ride_length</th>\n",
              "      <td>4574074.0</td>\n",
              "      <td>1542.741194</td>\n",
              "      <td>5951.191746</td>\n",
              "      <td>0.0</td>\n",
              "      <td>415.0</td>\n",
              "      <td>729.0</td>\n",
              "      <td>1320.0</td>\n",
              "      <td>86366.0</td>\n",
              "    </tr>\n",
              "    <tr>\n",
              "      <th>weekday</th>\n",
              "      <td>4574074.0</td>\n",
              "      <td>4.105038</td>\n",
              "      <td>2.082535</td>\n",
              "      <td>1.0</td>\n",
              "      <td>2.0</td>\n",
              "      <td>4.0</td>\n",
              "      <td>6.0</td>\n",
              "      <td>7.0</td>\n",
              "    </tr>\n",
              "  </tbody>\n",
              "</table>\n",
              "</div>\n",
              "      <button class=\"colab-df-convert\" onclick=\"convertToInteractive('df-2b114ec6-17d2-428e-adba-1f514dcf5935')\"\n",
              "              title=\"Convert this dataframe to an interactive table.\"\n",
              "              style=\"display:none;\">\n",
              "        \n",
              "  <svg xmlns=\"http://www.w3.org/2000/svg\" height=\"24px\"viewBox=\"0 0 24 24\"\n",
              "       width=\"24px\">\n",
              "    <path d=\"M0 0h24v24H0V0z\" fill=\"none\"/>\n",
              "    <path d=\"M18.56 5.44l.94 2.06.94-2.06 2.06-.94-2.06-.94-.94-2.06-.94 2.06-2.06.94zm-11 1L8.5 8.5l.94-2.06 2.06-.94-2.06-.94L8.5 2.5l-.94 2.06-2.06.94zm10 10l.94 2.06.94-2.06 2.06-.94-2.06-.94-.94-2.06-.94 2.06-2.06.94z\"/><path d=\"M17.41 7.96l-1.37-1.37c-.4-.4-.92-.59-1.43-.59-.52 0-1.04.2-1.43.59L10.3 9.45l-7.72 7.72c-.78.78-.78 2.05 0 2.83L4 21.41c.39.39.9.59 1.41.59.51 0 1.02-.2 1.41-.59l7.78-7.78 2.81-2.81c.8-.78.8-2.07 0-2.86zM5.41 20L4 18.59l7.72-7.72 1.47 1.35L5.41 20z\"/>\n",
              "  </svg>\n",
              "      </button>\n",
              "      \n",
              "  <style>\n",
              "    .colab-df-container {\n",
              "      display:flex;\n",
              "      flex-wrap:wrap;\n",
              "      gap: 12px;\n",
              "    }\n",
              "\n",
              "    .colab-df-convert {\n",
              "      background-color: #E8F0FE;\n",
              "      border: none;\n",
              "      border-radius: 50%;\n",
              "      cursor: pointer;\n",
              "      display: none;\n",
              "      fill: #1967D2;\n",
              "      height: 32px;\n",
              "      padding: 0 0 0 0;\n",
              "      width: 32px;\n",
              "    }\n",
              "\n",
              "    .colab-df-convert:hover {\n",
              "      background-color: #E2EBFA;\n",
              "      box-shadow: 0px 1px 2px rgba(60, 64, 67, 0.3), 0px 1px 3px 1px rgba(60, 64, 67, 0.15);\n",
              "      fill: #174EA6;\n",
              "    }\n",
              "\n",
              "    [theme=dark] .colab-df-convert {\n",
              "      background-color: #3B4455;\n",
              "      fill: #D2E3FC;\n",
              "    }\n",
              "\n",
              "    [theme=dark] .colab-df-convert:hover {\n",
              "      background-color: #434B5C;\n",
              "      box-shadow: 0px 1px 3px 1px rgba(0, 0, 0, 0.15);\n",
              "      filter: drop-shadow(0px 1px 2px rgba(0, 0, 0, 0.3));\n",
              "      fill: #FFFFFF;\n",
              "    }\n",
              "  </style>\n",
              "\n",
              "      <script>\n",
              "        const buttonEl =\n",
              "          document.querySelector('#df-2b114ec6-17d2-428e-adba-1f514dcf5935 button.colab-df-convert');\n",
              "        buttonEl.style.display =\n",
              "          google.colab.kernel.accessAllowed ? 'block' : 'none';\n",
              "\n",
              "        async function convertToInteractive(key) {\n",
              "          const element = document.querySelector('#df-2b114ec6-17d2-428e-adba-1f514dcf5935');\n",
              "          const dataTable =\n",
              "            await google.colab.kernel.invokeFunction('convertToInteractive',\n",
              "                                                     [key], {});\n",
              "          if (!dataTable) return;\n",
              "\n",
              "          const docLinkHtml = 'Like what you see? Visit the ' +\n",
              "            '<a target=\"_blank\" href=https://colab.research.google.com/notebooks/data_table.ipynb>data table notebook</a>'\n",
              "            + ' to learn more about interactive tables.';\n",
              "          element.innerHTML = '';\n",
              "          dataTable['output_type'] = 'display_data';\n",
              "          await google.colab.output.renderOutput(dataTable, element);\n",
              "          const docLink = document.createElement('div');\n",
              "          docLink.innerHTML = docLinkHtml;\n",
              "          element.appendChild(docLink);\n",
              "        }\n",
              "      </script>\n",
              "    </div>\n",
              "  </div>\n",
              "  "
            ]
          },
          "metadata": {},
          "execution_count": 72
        }
      ]
    },
    {
      "cell_type": "markdown",
      "source": [
        "According to the data, there are three types of bikes and the most used bikes are classic bikes."
      ],
      "metadata": {
        "id": "3bvFGnxEO1Wh"
      }
    },
    {
      "cell_type": "code",
      "source": [
        "# breakdown of the bike type\n",
        "df1['rideable_type'].value_counts()"
      ],
      "metadata": {
        "colab": {
          "base_uri": "https://localhost:8080/"
        },
        "id": "YaZyB1vZylDL",
        "outputId": "eb000f84-350b-4f30-de85-ffb429ce801a"
      },
      "execution_count": null,
      "outputs": [
        {
          "output_type": "execute_result",
          "data": {
            "text/plain": [
              "classic_bike     3230246\n",
              "electric_bike    1037405\n",
              "docked_bike       306423\n",
              "Name: rideable_type, dtype: int64"
            ]
          },
          "metadata": {},
          "execution_count": 73
        }
      ]
    },
    {
      "cell_type": "code",
      "source": [
        "# relative frequency of type of bike used\n",
        "df1['rideable_type'].value_counts(normalize = True )"
      ],
      "metadata": {
        "colab": {
          "base_uri": "https://localhost:8080/"
        },
        "id": "v6y_FXjxzFvK",
        "outputId": "be75c52c-c486-44a4-bb69-2ee17532ff0b"
      },
      "execution_count": null,
      "outputs": [
        {
          "output_type": "execute_result",
          "data": {
            "text/plain": [
              "classic_bike     0.706208\n",
              "electric_bike    0.226801\n",
              "docked_bike      0.066991\n",
              "Name: rideable_type, dtype: float64"
            ]
          },
          "metadata": {},
          "execution_count": 74
        }
      ]
    },
    {
      "cell_type": "code",
      "source": [
        "#comparing the mean of member and casual ridelength\n",
        "ridelength = df1.pivot_table(index =['member_casual'],\n",
        "                       values =['ride_length'],\n",
        "                       aggfunc ='mean')\n",
        "ridelength"
      ],
      "metadata": {
        "colab": {
          "base_uri": "https://localhost:8080/",
          "height": 143
        },
        "id": "wEf3clX6CWL1",
        "outputId": "1e9af7b7-8e0b-4e9c-8021-4d7e69002eaf"
      },
      "execution_count": null,
      "outputs": [
        {
          "output_type": "execute_result",
          "data": {
            "text/plain": [
              "               ride_length\n",
              "member_casual             \n",
              "casual         2285.018504\n",
              "member          949.196785"
            ],
            "text/html": [
              "\n",
              "  <div id=\"df-27c57b28-5d51-4b0f-a6e0-eef8f81a4550\">\n",
              "    <div class=\"colab-df-container\">\n",
              "      <div>\n",
              "<style scoped>\n",
              "    .dataframe tbody tr th:only-of-type {\n",
              "        vertical-align: middle;\n",
              "    }\n",
              "\n",
              "    .dataframe tbody tr th {\n",
              "        vertical-align: top;\n",
              "    }\n",
              "\n",
              "    .dataframe thead th {\n",
              "        text-align: right;\n",
              "    }\n",
              "</style>\n",
              "<table border=\"1\" class=\"dataframe\">\n",
              "  <thead>\n",
              "    <tr style=\"text-align: right;\">\n",
              "      <th></th>\n",
              "      <th>ride_length</th>\n",
              "    </tr>\n",
              "    <tr>\n",
              "      <th>member_casual</th>\n",
              "      <th></th>\n",
              "    </tr>\n",
              "  </thead>\n",
              "  <tbody>\n",
              "    <tr>\n",
              "      <th>casual</th>\n",
              "      <td>2285.018504</td>\n",
              "    </tr>\n",
              "    <tr>\n",
              "      <th>member</th>\n",
              "      <td>949.196785</td>\n",
              "    </tr>\n",
              "  </tbody>\n",
              "</table>\n",
              "</div>\n",
              "      <button class=\"colab-df-convert\" onclick=\"convertToInteractive('df-27c57b28-5d51-4b0f-a6e0-eef8f81a4550')\"\n",
              "              title=\"Convert this dataframe to an interactive table.\"\n",
              "              style=\"display:none;\">\n",
              "        \n",
              "  <svg xmlns=\"http://www.w3.org/2000/svg\" height=\"24px\"viewBox=\"0 0 24 24\"\n",
              "       width=\"24px\">\n",
              "    <path d=\"M0 0h24v24H0V0z\" fill=\"none\"/>\n",
              "    <path d=\"M18.56 5.44l.94 2.06.94-2.06 2.06-.94-2.06-.94-.94-2.06-.94 2.06-2.06.94zm-11 1L8.5 8.5l.94-2.06 2.06-.94-2.06-.94L8.5 2.5l-.94 2.06-2.06.94zm10 10l.94 2.06.94-2.06 2.06-.94-2.06-.94-.94-2.06-.94 2.06-2.06.94z\"/><path d=\"M17.41 7.96l-1.37-1.37c-.4-.4-.92-.59-1.43-.59-.52 0-1.04.2-1.43.59L10.3 9.45l-7.72 7.72c-.78.78-.78 2.05 0 2.83L4 21.41c.39.39.9.59 1.41.59.51 0 1.02-.2 1.41-.59l7.78-7.78 2.81-2.81c.8-.78.8-2.07 0-2.86zM5.41 20L4 18.59l7.72-7.72 1.47 1.35L5.41 20z\"/>\n",
              "  </svg>\n",
              "      </button>\n",
              "      \n",
              "  <style>\n",
              "    .colab-df-container {\n",
              "      display:flex;\n",
              "      flex-wrap:wrap;\n",
              "      gap: 12px;\n",
              "    }\n",
              "\n",
              "    .colab-df-convert {\n",
              "      background-color: #E8F0FE;\n",
              "      border: none;\n",
              "      border-radius: 50%;\n",
              "      cursor: pointer;\n",
              "      display: none;\n",
              "      fill: #1967D2;\n",
              "      height: 32px;\n",
              "      padding: 0 0 0 0;\n",
              "      width: 32px;\n",
              "    }\n",
              "\n",
              "    .colab-df-convert:hover {\n",
              "      background-color: #E2EBFA;\n",
              "      box-shadow: 0px 1px 2px rgba(60, 64, 67, 0.3), 0px 1px 3px 1px rgba(60, 64, 67, 0.15);\n",
              "      fill: #174EA6;\n",
              "    }\n",
              "\n",
              "    [theme=dark] .colab-df-convert {\n",
              "      background-color: #3B4455;\n",
              "      fill: #D2E3FC;\n",
              "    }\n",
              "\n",
              "    [theme=dark] .colab-df-convert:hover {\n",
              "      background-color: #434B5C;\n",
              "      box-shadow: 0px 1px 3px 1px rgba(0, 0, 0, 0.15);\n",
              "      filter: drop-shadow(0px 1px 2px rgba(0, 0, 0, 0.3));\n",
              "      fill: #FFFFFF;\n",
              "    }\n",
              "  </style>\n",
              "\n",
              "      <script>\n",
              "        const buttonEl =\n",
              "          document.querySelector('#df-27c57b28-5d51-4b0f-a6e0-eef8f81a4550 button.colab-df-convert');\n",
              "        buttonEl.style.display =\n",
              "          google.colab.kernel.accessAllowed ? 'block' : 'none';\n",
              "\n",
              "        async function convertToInteractive(key) {\n",
              "          const element = document.querySelector('#df-27c57b28-5d51-4b0f-a6e0-eef8f81a4550');\n",
              "          const dataTable =\n",
              "            await google.colab.kernel.invokeFunction('convertToInteractive',\n",
              "                                                     [key], {});\n",
              "          if (!dataTable) return;\n",
              "\n",
              "          const docLinkHtml = 'Like what you see? Visit the ' +\n",
              "            '<a target=\"_blank\" href=https://colab.research.google.com/notebooks/data_table.ipynb>data table notebook</a>'\n",
              "            + ' to learn more about interactive tables.';\n",
              "          element.innerHTML = '';\n",
              "          dataTable['output_type'] = 'display_data';\n",
              "          await google.colab.output.renderOutput(dataTable, element);\n",
              "          const docLink = document.createElement('div');\n",
              "          docLink.innerHTML = docLinkHtml;\n",
              "          element.appendChild(docLink);\n",
              "        }\n",
              "      </script>\n",
              "    </div>\n",
              "  </div>\n",
              "  "
            ]
          },
          "metadata": {},
          "execution_count": 75
        }
      ]
    },
    {
      "cell_type": "code",
      "source": [
        "df1['member_casual'].value_counts(normalize=True)"
      ],
      "metadata": {
        "colab": {
          "base_uri": "https://localhost:8080/"
        },
        "id": "X09hKPU6zusn",
        "outputId": "d1b07691-bc2f-4f86-d236-8846f78dfec5"
      },
      "execution_count": null,
      "outputs": [
        {
          "output_type": "execute_result",
          "data": {
            "text/plain": [
              "member    0.555671\n",
              "casual    0.444329\n",
              "Name: member_casual, dtype: float64"
            ]
          },
          "metadata": {},
          "execution_count": 76
        }
      ]
    },
    {
      "cell_type": "code",
      "source": [
        "mean_value_of_weekday= df1.pivot_table(index =['member_casual'],\n",
        "                       values =['weekday'],\n",
        "                       aggfunc ='mean')\n",
        "mean_value_of_weekday"
      ],
      "metadata": {
        "colab": {
          "base_uri": "https://localhost:8080/",
          "height": 143
        },
        "id": "KOVAUyCktFd-",
        "outputId": "f2e7c97e-0931-4d14-8e25-cf4323192627"
      },
      "execution_count": null,
      "outputs": [
        {
          "output_type": "execute_result",
          "data": {
            "text/plain": [
              "                weekday\n",
              "member_casual          \n",
              "casual         4.155594\n",
              "member         4.064612"
            ],
            "text/html": [
              "\n",
              "  <div id=\"df-e8ecf93e-9df9-4435-b3e4-817a9d23b8ba\">\n",
              "    <div class=\"colab-df-container\">\n",
              "      <div>\n",
              "<style scoped>\n",
              "    .dataframe tbody tr th:only-of-type {\n",
              "        vertical-align: middle;\n",
              "    }\n",
              "\n",
              "    .dataframe tbody tr th {\n",
              "        vertical-align: top;\n",
              "    }\n",
              "\n",
              "    .dataframe thead th {\n",
              "        text-align: right;\n",
              "    }\n",
              "</style>\n",
              "<table border=\"1\" class=\"dataframe\">\n",
              "  <thead>\n",
              "    <tr style=\"text-align: right;\">\n",
              "      <th></th>\n",
              "      <th>weekday</th>\n",
              "    </tr>\n",
              "    <tr>\n",
              "      <th>member_casual</th>\n",
              "      <th></th>\n",
              "    </tr>\n",
              "  </thead>\n",
              "  <tbody>\n",
              "    <tr>\n",
              "      <th>casual</th>\n",
              "      <td>4.155594</td>\n",
              "    </tr>\n",
              "    <tr>\n",
              "      <th>member</th>\n",
              "      <td>4.064612</td>\n",
              "    </tr>\n",
              "  </tbody>\n",
              "</table>\n",
              "</div>\n",
              "      <button class=\"colab-df-convert\" onclick=\"convertToInteractive('df-e8ecf93e-9df9-4435-b3e4-817a9d23b8ba')\"\n",
              "              title=\"Convert this dataframe to an interactive table.\"\n",
              "              style=\"display:none;\">\n",
              "        \n",
              "  <svg xmlns=\"http://www.w3.org/2000/svg\" height=\"24px\"viewBox=\"0 0 24 24\"\n",
              "       width=\"24px\">\n",
              "    <path d=\"M0 0h24v24H0V0z\" fill=\"none\"/>\n",
              "    <path d=\"M18.56 5.44l.94 2.06.94-2.06 2.06-.94-2.06-.94-.94-2.06-.94 2.06-2.06.94zm-11 1L8.5 8.5l.94-2.06 2.06-.94-2.06-.94L8.5 2.5l-.94 2.06-2.06.94zm10 10l.94 2.06.94-2.06 2.06-.94-2.06-.94-.94-2.06-.94 2.06-2.06.94z\"/><path d=\"M17.41 7.96l-1.37-1.37c-.4-.4-.92-.59-1.43-.59-.52 0-1.04.2-1.43.59L10.3 9.45l-7.72 7.72c-.78.78-.78 2.05 0 2.83L4 21.41c.39.39.9.59 1.41.59.51 0 1.02-.2 1.41-.59l7.78-7.78 2.81-2.81c.8-.78.8-2.07 0-2.86zM5.41 20L4 18.59l7.72-7.72 1.47 1.35L5.41 20z\"/>\n",
              "  </svg>\n",
              "      </button>\n",
              "      \n",
              "  <style>\n",
              "    .colab-df-container {\n",
              "      display:flex;\n",
              "      flex-wrap:wrap;\n",
              "      gap: 12px;\n",
              "    }\n",
              "\n",
              "    .colab-df-convert {\n",
              "      background-color: #E8F0FE;\n",
              "      border: none;\n",
              "      border-radius: 50%;\n",
              "      cursor: pointer;\n",
              "      display: none;\n",
              "      fill: #1967D2;\n",
              "      height: 32px;\n",
              "      padding: 0 0 0 0;\n",
              "      width: 32px;\n",
              "    }\n",
              "\n",
              "    .colab-df-convert:hover {\n",
              "      background-color: #E2EBFA;\n",
              "      box-shadow: 0px 1px 2px rgba(60, 64, 67, 0.3), 0px 1px 3px 1px rgba(60, 64, 67, 0.15);\n",
              "      fill: #174EA6;\n",
              "    }\n",
              "\n",
              "    [theme=dark] .colab-df-convert {\n",
              "      background-color: #3B4455;\n",
              "      fill: #D2E3FC;\n",
              "    }\n",
              "\n",
              "    [theme=dark] .colab-df-convert:hover {\n",
              "      background-color: #434B5C;\n",
              "      box-shadow: 0px 1px 3px 1px rgba(0, 0, 0, 0.15);\n",
              "      filter: drop-shadow(0px 1px 2px rgba(0, 0, 0, 0.3));\n",
              "      fill: #FFFFFF;\n",
              "    }\n",
              "  </style>\n",
              "\n",
              "      <script>\n",
              "        const buttonEl =\n",
              "          document.querySelector('#df-e8ecf93e-9df9-4435-b3e4-817a9d23b8ba button.colab-df-convert');\n",
              "        buttonEl.style.display =\n",
              "          google.colab.kernel.accessAllowed ? 'block' : 'none';\n",
              "\n",
              "        async function convertToInteractive(key) {\n",
              "          const element = document.querySelector('#df-e8ecf93e-9df9-4435-b3e4-817a9d23b8ba');\n",
              "          const dataTable =\n",
              "            await google.colab.kernel.invokeFunction('convertToInteractive',\n",
              "                                                     [key], {});\n",
              "          if (!dataTable) return;\n",
              "\n",
              "          const docLinkHtml = 'Like what you see? Visit the ' +\n",
              "            '<a target=\"_blank\" href=https://colab.research.google.com/notebooks/data_table.ipynb>data table notebook</a>'\n",
              "            + ' to learn more about interactive tables.';\n",
              "          element.innerHTML = '';\n",
              "          dataTable['output_type'] = 'display_data';\n",
              "          await google.colab.output.renderOutput(dataTable, element);\n",
              "          const docLink = document.createElement('div');\n",
              "          docLink.innerHTML = docLinkHtml;\n",
              "          element.appendChild(docLink);\n",
              "        }\n",
              "      </script>\n",
              "    </div>\n",
              "  </div>\n",
              "  "
            ]
          },
          "metadata": {},
          "execution_count": 77
        }
      ]
    },
    {
      "cell_type": "code",
      "source": [
        "# relative frequency of combining day of week and user type\n",
        "df[['weekday', 'member_casual']].value_counts(normalize=True)"
      ],
      "metadata": {
        "colab": {
          "base_uri": "https://localhost:8080/"
        },
        "id": "_ihnRdl6xAPL",
        "outputId": "4f38da00-f6e2-4bd9-f42c-41fa69c6add4"
      },
      "execution_count": null,
      "outputs": [
        {
          "output_type": "execute_result",
          "data": {
            "text/plain": [
              "weekday  member_casual\n",
              "7        casual           0.098672\n",
              "4        member           0.085511\n",
              "1        casual           0.085370\n",
              "3        member           0.083445\n",
              "5        member           0.080946\n",
              "6        member           0.079998\n",
              "7        member           0.077776\n",
              "2        member           0.074613\n",
              "1        member           0.067447\n",
              "6        casual           0.064881\n",
              "5        casual           0.051246\n",
              "2        casual           0.051171\n",
              "4        casual           0.049897\n",
              "3        casual           0.049027\n",
              "dtype: float64"
            ]
          },
          "metadata": {},
          "execution_count": 78
        }
      ]
    },
    {
      "cell_type": "code",
      "source": [
        "#day of week per user type\n",
        "df[['weekday', 'member_casual']].value_counts()"
      ],
      "metadata": {
        "colab": {
          "base_uri": "https://localhost:8080/"
        },
        "id": "HYZWYYEY0jcy",
        "outputId": "f940c285-1bad-480a-eb2f-8e577375df80"
      },
      "execution_count": null,
      "outputs": [
        {
          "output_type": "execute_result",
          "data": {
            "text/plain": [
              "weekday  member_casual\n",
              "7        casual           549471\n",
              "4        member           476182\n",
              "1        casual           475399\n",
              "3        member           464676\n",
              "5        member           450761\n",
              "6        member           445484\n",
              "7        member           433110\n",
              "2        member           415495\n",
              "1        member           375591\n",
              "6        casual           361302\n",
              "5        casual           285372\n",
              "2        casual           284954\n",
              "4        casual           277858\n",
              "3        casual           273013\n",
              "dtype: int64"
            ]
          },
          "metadata": {},
          "execution_count": 79
        }
      ]
    },
    {
      "cell_type": "code",
      "source": [
        "df[['month']].value_counts()"
      ],
      "metadata": {
        "colab": {
          "base_uri": "https://localhost:8080/"
        },
        "id": "QyZfxg6f1D_p",
        "outputId": "95187c79-752e-4187-8574-e834ed557921"
      },
      "execution_count": null,
      "outputs": [
        {
          "output_type": "execute_result",
          "data": {
            "text/plain": [
              "month\n",
              "Jul      822410\n",
              "Aug      804352\n",
              "Sep      756147\n",
              "Jun      729595\n",
              "Oct      606479\n",
              "May      531633\n",
              "Nov      359978\n",
              "Apr      337230\n",
              "Dec      247540\n",
              "Mar      227384\n",
              "Jan       96560\n",
              "Feb       49360\n",
              "dtype: int64"
            ]
          },
          "metadata": {},
          "execution_count": 80
        }
      ]
    },
    {
      "cell_type": "code",
      "source": [
        "#monthper user type\n",
        "df[['month', 'member_casual']].value_counts()"
      ],
      "metadata": {
        "colab": {
          "base_uri": "https://localhost:8080/"
        },
        "id": "0xaOKHmK0olX",
        "outputId": "ee9d0f86-76df-4b0b-d678-b4159fa6f655"
      },
      "execution_count": null,
      "outputs": [
        {
          "output_type": "execute_result",
          "data": {
            "text/plain": [
              "month  member_casual\n",
              "Jul    casual           442056\n",
              "Aug    casual           412671\n",
              "Sep    member           392257\n",
              "Aug    member           391681\n",
              "Jul    member           380354\n",
              "Jun    casual           370681\n",
              "Oct    member           369805\n",
              "Sep    casual           363890\n",
              "Jun    member           358914\n",
              "May    member           274717\n",
              "       casual           256916\n",
              "Nov    member           253049\n",
              "Oct    casual           236674\n",
              "Apr    member           200629\n",
              "Dec    member           177802\n",
              "Mar    member           144170\n",
              "Apr    casual           136601\n",
              "Nov    casual           106929\n",
              "Mar    casual            83214\n",
              "Jan    member            78566\n",
              "Dec    casual            69738\n",
              "Feb    member            39355\n",
              "Jan    casual            17994\n",
              "Feb    casual            10005\n",
              "dtype: int64"
            ]
          },
          "metadata": {},
          "execution_count": 81
        }
      ]
    },
    {
      "cell_type": "markdown",
      "source": [
        "A breakdown of casual bike rider per each day of the week."
      ],
      "metadata": {
        "id": "njcOY32hShPy"
      }
    },
    {
      "cell_type": "code",
      "source": [
        "casual_rides_per_day = df1[df1['member_casual'] == 'casual'].groupby('weekday')['ride_id'].count()\n",
        "casual_rides_per_day"
      ],
      "metadata": {
        "colab": {
          "base_uri": "https://localhost:8080/"
        },
        "id": "OvvHx9z11poC",
        "outputId": "3f041a64-e1d3-414f-c52a-b662375d8278"
      },
      "execution_count": null,
      "outputs": [
        {
          "output_type": "execute_result",
          "data": {
            "text/plain": [
              "weekday\n",
              "1    399379\n",
              "2    227967\n",
              "3    214036\n",
              "4    217570\n",
              "5    223950\n",
              "6    288091\n",
              "7    461401\n",
              "Name: ride_id, dtype: int64"
            ]
          },
          "metadata": {},
          "execution_count": 82
        }
      ]
    },
    {
      "cell_type": "markdown",
      "source": [
        "A breakdown of member bike rider per each day of the week."
      ],
      "metadata": {
        "id": "drZ0DHrsrVdI"
      }
    },
    {
      "cell_type": "code",
      "source": [
        "member_rides_per_day = df1[df1['member_casual'] == 'member'].groupby('weekday')['ride_id'].count()\n",
        "member_rides_per_day"
      ],
      "metadata": {
        "colab": {
          "base_uri": "https://localhost:8080/"
        },
        "id": "MBfV9m36AREx",
        "outputId": "25e4673f-55e6-4476-c917-e12471961d92"
      },
      "execution_count": null,
      "outputs": [
        {
          "output_type": "execute_result",
          "data": {
            "text/plain": [
              "weekday\n",
              "1    311505\n",
              "2    346529\n",
              "3    388198\n",
              "4    397734\n",
              "5    373614\n",
              "6    365921\n",
              "7    358179\n",
              "Name: ride_id, dtype: int64"
            ]
          },
          "metadata": {},
          "execution_count": 83
        }
      ]
    },
    {
      "cell_type": "markdown",
      "source": [
        "A breakdown  of casual bike riders for each month of the year."
      ],
      "metadata": {
        "id": "Ej5pZfryS9KR"
      }
    },
    {
      "cell_type": "code",
      "source": [
        "casual_rides_per_month = df1[df1['member_casual'] == 'casual'].groupby('month')['ride_id'].count()\n",
        "casual_rides_per_month"
      ],
      "metadata": {
        "colab": {
          "base_uri": "https://localhost:8080/"
        },
        "id": "ZGWsiK1u2QO6",
        "outputId": "ec10a48a-ab7a-45d9-dc9a-3bc687e6e890"
      },
      "execution_count": null,
      "outputs": [
        {
          "output_type": "execute_result",
          "data": {
            "text/plain": [
              "month\n",
              "Apr    120420\n",
              "Aug    341476\n",
              "Dec     45076\n",
              "Feb      8517\n",
              "Jan     14590\n",
              "Jul    369415\n",
              "Jun    304192\n",
              "Mar     74903\n",
              "May    216829\n",
              "Nov     69978\n",
              "Oct    174067\n",
              "Sep    292931\n",
              "Name: ride_id, dtype: int64"
            ]
          },
          "metadata": {},
          "execution_count": 84
        }
      ]
    },
    {
      "cell_type": "markdown",
      "source": [
        "A breakdown  of member bike riders for each month of the year."
      ],
      "metadata": {
        "id": "V_k0IEQRrszs"
      }
    },
    {
      "cell_type": "code",
      "source": [
        "member_rides_per_month = df1[df1['member_casual'] == 'member'].groupby('month')['ride_id'].count()\n",
        "member_rides_per_month"
      ],
      "metadata": {
        "colab": {
          "base_uri": "https://localhost:8080/"
        },
        "id": "CFaPkLp927UJ",
        "outputId": "8703c093-f038-42ab-f27e-f92e76703502"
      },
      "execution_count": null,
      "outputs": [
        {
          "output_type": "execute_result",
          "data": {
            "text/plain": [
              "month\n",
              "Apr    177787\n",
              "Aug    332933\n",
              "Dec    131295\n",
              "Feb     34296\n",
              "Jan     68726\n",
              "Jul    322906\n",
              "Jun    304586\n",
              "Mar    129819\n",
              "May    234165\n",
              "Nov    185926\n",
              "Oct    291022\n",
              "Sep    328219\n",
              "Name: ride_id, dtype: int64"
            ]
          },
          "metadata": {},
          "execution_count": 85
        }
      ]
    },
    {
      "cell_type": "code",
      "source": [
        "df1[\"ride_duration\"] = df1[\"ended_at\"] - df1[\"started_at\"]\n",
        "df1[\"ride_duration\"]"
      ],
      "metadata": {
        "colab": {
          "base_uri": "https://localhost:8080/"
        },
        "id": "YxlOKwLb3sre",
        "outputId": "7b2753ca-d220-443c-d53a-a982ea4e3135"
      },
      "execution_count": null,
      "outputs": [
        {
          "output_type": "stream",
          "name": "stderr",
          "text": [
            "/usr/local/lib/python3.7/dist-packages/ipykernel_launcher.py:1: SettingWithCopyWarning: \n",
            "A value is trying to be set on a copy of a slice from a DataFrame.\n",
            "Try using .loc[row_indexer,col_indexer] = value instead\n",
            "\n",
            "See the caveats in the documentation: https://pandas.pydata.org/pandas-docs/stable/user_guide/indexing.html#returning-a-view-versus-a-copy\n",
            "  \"\"\"Entry point for launching an IPython kernel.\n"
          ]
        },
        {
          "output_type": "execute_result",
          "data": {
            "text/plain": [
              "9         0 days\n",
              "10        0 days\n",
              "11        0 days\n",
              "12        0 days\n",
              "13        0 days\n",
              "           ...  \n",
              "5568660   1 days\n",
              "5568661   1 days\n",
              "5568662   1 days\n",
              "5568665   1 days\n",
              "5568667   1 days\n",
              "Name: ride_duration, Length: 4574074, dtype: timedelta64[ns]"
            ]
          },
          "metadata": {},
          "execution_count": 86
        }
      ]
    },
    {
      "cell_type": "markdown",
      "source": [
        "A comparison of ride time duration between casual riders and members."
      ],
      "metadata": {
        "id": "4DFXoQWXyIlu"
      }
    },
    {
      "cell_type": "code",
      "source": [
        "mean_casual = df1[df1['member_casual'] == 'casual']\n",
        "casual_mean = mean_casual['ride_length'].mean()\n",
        "casual_mean"
      ],
      "metadata": {
        "colab": {
          "base_uri": "https://localhost:8080/"
        },
        "id": "9MuvUB4-xU8p",
        "outputId": "3d1b3835-0f53-4f35-e972-51d35ddd5f84"
      },
      "execution_count": null,
      "outputs": [
        {
          "output_type": "execute_result",
          "data": {
            "text/plain": [
              "2285.0185042860785"
            ]
          },
          "metadata": {},
          "execution_count": 87
        }
      ]
    },
    {
      "cell_type": "code",
      "source": [
        "mean_member = df1[df1['member_casual'] == 'member']\n",
        "member_mean = mean_member['ride_length'].mean()\n",
        "member_mean"
      ],
      "metadata": {
        "colab": {
          "base_uri": "https://localhost:8080/"
        },
        "id": "_rdWZwU6zQg_",
        "outputId": "f3cdf52d-230b-44b0-ec7f-e9f06764cb19"
      },
      "execution_count": null,
      "outputs": [
        {
          "output_type": "execute_result",
          "data": {
            "text/plain": [
              "949.1967851971924"
            ]
          },
          "metadata": {},
          "execution_count": 88
        }
      ]
    },
    {
      "cell_type": "code",
      "source": [
        "sum_member = df1[df1['member_casual'] == 'member']\n",
        "member_sum = sum_member['ride_length'].sum()\n",
        "member_sum"
      ],
      "metadata": {
        "colab": {
          "base_uri": "https://localhost:8080/"
        },
        "id": "4y9jrlIlxsrY",
        "outputId": "2c00750b-dc0a-41ef-f75b-0a2d1858070e"
      },
      "execution_count": null,
      "outputs": [
        {
          "output_type": "execute_result",
          "data": {
            "text/plain": [
              "2412554485"
            ]
          },
          "metadata": {},
          "execution_count": 89
        }
      ]
    },
    {
      "cell_type": "code",
      "source": [
        "sum_casual = df1[df1['member_casual'] == 'casual']\n",
        "casual_sum = sum_casual['ride_length'].sum()\n",
        "casual_sum"
      ],
      "metadata": {
        "colab": {
          "base_uri": "https://localhost:8080/"
        },
        "id": "Z9pljoOyzfSu",
        "outputId": "ccbfc508-d7ba-49d3-a370-a81bd15479fe"
      },
      "execution_count": null,
      "outputs": [
        {
          "output_type": "execute_result",
          "data": {
            "text/plain": [
              "4644057898"
            ]
          },
          "metadata": {},
          "execution_count": 90
        }
      ]
    },
    {
      "cell_type": "markdown",
      "source": [
        "***Summary***  \n",
        "**Trends and Observations**\n",
        "\n",
        "\n",
        "*   Least used bikes are docked bikes\n",
        "*   There are more members than non-members (casual riders)\n",
        "*   Saturday has the most amount of riders\n",
        "*   Most casual riders ride on Saturday while most members ride on Wednesday\n",
        "*  July 2021 (casual) and Aug -Sept 2021 (member) had the most users for each user type from the period of Jan 2021 to July 2021\n",
        "*   The average ride duration for casual is twice that of casual\n",
        "*   We have more of members user than casual"
      ],
      "metadata": {
        "id": "b5zzeb4-01x1"
      }
    },
    {
      "cell_type": "code",
      "source": [
        "plt.figure(figsize=(10,8))\n",
        "plt.title(\"Bikes used for members vs. casual riders\")\n",
        "sn.countplot(x='member_casual', hue='rideable_type', palette=\"ch:start=.2,rot=-.3\", data = df1)\n",
        "plt.ticklabel_format(axis='y')\n",
        "plt.show()"
      ],
      "metadata": {
        "colab": {
          "base_uri": "https://localhost:8080/",
          "height": 514
        },
        "id": "MmvMklzH4PkZ",
        "outputId": "7289ac83-0d80-4b22-9ebd-5c9b834b53de"
      },
      "execution_count": null,
      "outputs": [
        {
          "output_type": "display_data",
          "data": {
            "text/plain": [
              "<Figure size 720x576 with 1 Axes>"
            ],
            "image/png": "[encoded data removed]"
          },
          "metadata": {
            "needs_background": "light"
          }
        }
      ]
    },
    {
      "cell_type": "code",
      "source": [
        "member_type = df1['member_casual'].value_counts()\n",
        "member_type"
      ],
      "metadata": {
        "colab": {
          "base_uri": "https://localhost:8080/"
        },
        "id": "_t8lM0KF7q55",
        "outputId": "d2fc20de-6ec1-4623-acc5-22f84b513cab"
      },
      "execution_count": null,
      "outputs": [
        {
          "output_type": "execute_result",
          "data": {
            "text/plain": [
              "member    2541680\n",
              "casual    2032394\n",
              "Name: member_casual, dtype: int64"
            ]
          },
          "metadata": {},
          "execution_count": 46
        }
      ]
    },
    {
      "cell_type": "code",
      "source": [
        "plt.figure(figsize=(5,8))\n",
        "plt.title(\"Number of users: member and casual\")\n",
        "plt.bar(member_type.index, member_type.values)\n",
        "plt.ticklabel_format(axis='y')\n",
        "plt.legend()"
      ],
      "metadata": {
        "colab": {
          "base_uri": "https://localhost:8080/",
          "height": 534
        },
        "id": "10H6nN4d8KzM",
        "outputId": "d3d3f9b2-ca14-411f-9984-5f5518e59991"
      },
      "execution_count": null,
      "outputs": [
        {
          "output_type": "stream",
          "name": "stderr",
          "text": [
            "WARNING:matplotlib.legend:No handles with labels found to put in legend.\n"
          ]
        },
        {
          "output_type": "execute_result",
          "data": {
            "text/plain": [
              "<matplotlib.legend.Legend at 0x7ff6adc45490>"
            ]
          },
          "metadata": {},
          "execution_count": 111
        },
        {
          "output_type": "display_data",
          "data": {
            "text/plain": [
              "<Figure size 360x576 with 1 Axes>"
            ],
            "image/png": "[encoded data removed]"
          },
          "metadata": {
            "needs_background": "light"
          }
        }
      ]
    },
    {
      "cell_type": "code",
      "source": [
        "n=10\n",
        "Start_station = df1['start_station_name'].value_counts()\n",
        "start = Start_station[:10 ]"
      ],
      "metadata": {
        "id": "MErZQjZr2iaO"
      },
      "execution_count": null,
      "outputs": []
    },
    {
      "cell_type": "code",
      "source": [
        "plt.figure(figsize=(5,8))\n",
        "plt.title(\"Start_tation\")\n",
        "plt.bar(start.index, start.values)\n",
        "plt.ticklabel_format(axis='y')\n",
        "plt.legend()"
      ],
      "metadata": {
        "colab": {
          "base_uri": "https://localhost:8080/",
          "height": 534
        },
        "id": "snF-bq9H2_wW",
        "outputId": "8029f125-5a58-41f1-9235-af667a39cf85"
      },
      "execution_count": null,
      "outputs": [
        {
          "output_type": "stream",
          "name": "stderr",
          "text": [
            "WARNING:matplotlib.legend:No handles with labels found to put in legend.\n"
          ]
        },
        {
          "output_type": "execute_result",
          "data": {
            "text/plain": [
              "<matplotlib.legend.Legend at 0x7ff6acf05c90>"
            ]
          },
          "metadata": {},
          "execution_count": 129
        },
        {
          "output_type": "display_data",
          "data": {
            "text/plain": [
              "<Figure size 360x576 with 1 Axes>"
            ],
            "image/png": "[encoded data removed]"
          },
          "metadata": {
            "needs_background": "light"
          }
        }
      ]
    },
    {
      "cell_type": "code",
      "source": [
        "plt.figure(figsize=(10,8),linewidth =10)\n",
        "plt.plot(member_rides_per_day,marker = \"D\", color = \"k\",linewidth=2)\n",
        "plt.plot(casual_rides_per_day, marker = \"o\",linewidth=2, color = \"purple\")\n",
        "plt.xticks()\n",
        "plt.title(\"Comparing members and casual riders\")\n",
        "plt.legend(['member','casual'])\n",
        "labels=[('weekday')]\n",
        "plt.show()"
      ],
      "metadata": {
        "colab": {
          "base_uri": "https://localhost:8080/",
          "height": 499
        },
        "id": "WnZOn_7M85b4",
        "outputId": "f10125b9-0032-4ba1-ca9d-df33691e3945"
      },
      "execution_count": null,
      "outputs": [
        {
          "output_type": "display_data",
          "data": {
            "text/plain": [
              "<Figure size 720x576 with 1 Axes>"
            ],
            "image/png": "[encoded data removed]"
          },
          "metadata": {
            "needs_background": "light"
          }
        }
      ]
    },
    {
      "cell_type": "code",
      "source": [
        "plt.figure(figsize=(10,8))\n",
        "plt.plot(member_rides_per_month,marker = \"D\", color = \"k\",linewidth=2)\n",
        "plt.plot(casual_rides_per_month,marker = \"o\",linewidth=2, color = \"purple\")\n",
        "plt.xticks()\n",
        "plt.title(\"Comparing members and casual riders\")\n",
        "plt.legend(['member','casual'])\n",
        "labels=[('month')]\n",
        "plt.show()"
      ],
      "metadata": {
        "colab": {
          "base_uri": "https://localhost:8080/",
          "height": 499
        },
        "id": "n_Kz2NkGHtK4",
        "outputId": "82929288-165f-42f7-b212-924ef2c747ab"
      },
      "execution_count": null,
      "outputs": [
        {
          "output_type": "display_data",
          "data": {
            "text/plain": [
              "<Figure size 720x576 with 1 Axes>"
            ],
            "image/png": "[encoded data removed]"
          },
          "metadata": {
            "needs_background": "light"
          }
        }
      ]
    },
    {
      "cell_type": "code",
      "source": [
        "plt.figure(figsize=(10,8))\n",
        "\n",
        "sn.countplot(x='member_casual', hue='month', palette='ch:s=.25,rot=-.5', data=df1)"
      ],
      "metadata": {
        "colab": {
          "base_uri": "https://localhost:8080/",
          "height": 515
        },
        "id": "kD3EJrxYIF_l",
        "outputId": "7df0da1c-2bb6-49fe-ca76-77adb899678f"
      },
      "execution_count": null,
      "outputs": [
        {
          "output_type": "execute_result",
          "data": {
            "text/plain": [
              "<matplotlib.axes._subplots.AxesSubplot at 0x7fbc264d3890>"
            ]
          },
          "metadata": {},
          "execution_count": 105
        },
        {
          "output_type": "display_data",
          "data": {
            "text/plain": [
              "<Figure size 720x576 with 1 Axes>"
            ],
            "image/png": "[encoded data removed]"
          },
          "metadata": {
            "needs_background": "light"
          }
        }
      ]
    },
    {
      "cell_type": "markdown",
      "source": [],
      "metadata": {
        "id": "-DFtmEyHHJMn"
      }
    },
    {
      "cell_type": "markdown",
      "source": [
        "***Summary and Obsevations***\n",
        "\n",
        "\n",
        "Most bikes used by both members and casual riders are classic\n",
        "\n",
        "*  we have more classic bike rider for both casual and member\n",
        "*  casual riders uses bike majorly on weekend, members use bike more during the week\n",
        "*  Most casual riders ride on Saturday while most members ride on Wednesday\n",
        "*  July has the most user for casual riders while Aug to sept has the most users for members"
      ],
      "metadata": {
        "id": "RYlRGNEfFMc0"
      }
    },
    {
      "cell_type": "markdown",
      "source": [
        "**Act**\n",
        "\n",
        "Based on the analysis,eventhough there are more membership riders than casual riders,but as a company\n",
        "\n",
        "* we can attract more casual users on the weekends to sign up for discounted memberships at least for the first year. According to the data, our membership capture rate potential is best done on Fridays and can be flexible through the weekend.\n",
        "\n",
        "* With the expected surge in the numbers of ridership on weekends, there would need to be a bigger supply of bikes during the weekends.\n",
        "\n",
        "*   With responsible use of funds, more electric bikes can be introduced for the public.\n",
        "\n",
        "*  One way to incentivize current members is a referral program where there can be a points system that can be redeemed in the future for discounted rates on membership.\n",
        "*   For casual users who use our service for more miles, we can incentivize by discounting rates of membership. We recommend to incentivize new members for rewards on bike use during weekdays.\n",
        "\n",
        "*  Marketing department can assist in promotions for converting casual riders into members for bicycle use during weekdays.\n",
        "\n",
        "*  Marketing can also help advertise more during the summer months encouraging bike use for members and casual riders by giving rewards/ points.\n",
        "\n",
        "*   Memberships can be completed quickly and downloaded on the phone for casual riders. This way, new members will be able to use the bike immediately.\n"
      ],
      "metadata": {
        "id": "hi77aE4tHTct"
      }
    }
  ]
}